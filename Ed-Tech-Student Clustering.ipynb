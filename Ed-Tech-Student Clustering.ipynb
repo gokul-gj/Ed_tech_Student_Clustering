{
 "cells": [
  {
   "cell_type": "markdown",
   "id": "c06e3a4d",
   "metadata": {},
   "source": [
    "## Problem Statement\n",
    "\n",
    "- Segmention of learners and cluster them on the basis of their job profile, company, and other features."
   ]
  },
  {
   "cell_type": "markdown",
   "id": "6c96f66c",
   "metadata": {},
   "source": [
    "### Import the dataset and do usual exploratory data analysis steps like checking the structure & characteristics of the dataset"
   ]
  },
  {
   "cell_type": "code",
   "execution_count": 1,
   "id": "e20e0a04",
   "metadata": {},
   "outputs": [],
   "source": [
    "import pandas as pd\n",
    "import numpy as np\n",
    "import seaborn as sns\n",
    "import matplotlib as plt"
   ]
  },
  {
   "cell_type": "code",
   "execution_count": 2,
   "id": "a0f91386",
   "metadata": {},
   "outputs": [],
   "source": [
    "import warnings\n",
    "warnings.filterwarnings('ignore')"
   ]
  },
  {
   "cell_type": "code",
   "execution_count": 3,
   "id": "35cdc38e",
   "metadata": {},
   "outputs": [],
   "source": [
    "df=pd.read_csv(\"\")"
   ]
  },
  {
   "cell_type": "code",
   "execution_count": 4,
   "id": "4ddf5f90",
   "metadata": {},
   "outputs": [
    {
     "data": {
      "text/html": [
       "<div>\n",
       "<style scoped>\n",
       "    .dataframe tbody tr th:only-of-type {\n",
       "        vertical-align: middle;\n",
       "    }\n",
       "\n",
       "    .dataframe tbody tr th {\n",
       "        vertical-align: top;\n",
       "    }\n",
       "\n",
       "    .dataframe thead th {\n",
       "        text-align: right;\n",
       "    }\n",
       "</style>\n",
       "<table border=\"1\" class=\"dataframe\">\n",
       "  <thead>\n",
       "    <tr style=\"text-align: right;\">\n",
       "      <th></th>\n",
       "      <th>Unnamed: 0</th>\n",
       "      <th>company_hash</th>\n",
       "      <th>email_hash</th>\n",
       "      <th>orgyear</th>\n",
       "      <th>ctc</th>\n",
       "      <th>job_position</th>\n",
       "      <th>ctc_updated_year</th>\n",
       "    </tr>\n",
       "  </thead>\n",
       "  <tbody>\n",
       "    <tr>\n",
       "      <th>0</th>\n",
       "      <td>0</td>\n",
       "      <td>atrgxnnt xzaxv</td>\n",
       "      <td>6de0a4417d18ab14334c3f43397fc13b30c35149d70c05...</td>\n",
       "      <td>2016.0</td>\n",
       "      <td>1100000</td>\n",
       "      <td>Other</td>\n",
       "      <td>2020.0</td>\n",
       "    </tr>\n",
       "    <tr>\n",
       "      <th>1</th>\n",
       "      <td>1</td>\n",
       "      <td>qtrxvzwt xzegwgbb rxbxnta</td>\n",
       "      <td>b0aaf1ac138b53cb6e039ba2c3d6604a250d02d5145c10...</td>\n",
       "      <td>2018.0</td>\n",
       "      <td>449999</td>\n",
       "      <td>FullStack Engineer</td>\n",
       "      <td>2019.0</td>\n",
       "    </tr>\n",
       "    <tr>\n",
       "      <th>2</th>\n",
       "      <td>2</td>\n",
       "      <td>ojzwnvwnxw vx</td>\n",
       "      <td>4860c670bcd48fb96c02a4b0ae3608ae6fdd98176112e9...</td>\n",
       "      <td>2015.0</td>\n",
       "      <td>2000000</td>\n",
       "      <td>Backend Engineer</td>\n",
       "      <td>2020.0</td>\n",
       "    </tr>\n",
       "    <tr>\n",
       "      <th>3</th>\n",
       "      <td>3</td>\n",
       "      <td>ngpgutaxv</td>\n",
       "      <td>effdede7a2e7c2af664c8a31d9346385016128d66bbc58...</td>\n",
       "      <td>2017.0</td>\n",
       "      <td>700000</td>\n",
       "      <td>Backend Engineer</td>\n",
       "      <td>2019.0</td>\n",
       "    </tr>\n",
       "    <tr>\n",
       "      <th>4</th>\n",
       "      <td>4</td>\n",
       "      <td>qxen sqghu</td>\n",
       "      <td>6ff54e709262f55cb999a1c1db8436cb2055d8f79ab520...</td>\n",
       "      <td>2017.0</td>\n",
       "      <td>1400000</td>\n",
       "      <td>FullStack Engineer</td>\n",
       "      <td>2019.0</td>\n",
       "    </tr>\n",
       "  </tbody>\n",
       "</table>\n",
       "</div>"
      ],
      "text/plain": [
       "   Unnamed: 0               company_hash  \\\n",
       "0           0             atrgxnnt xzaxv   \n",
       "1           1  qtrxvzwt xzegwgbb rxbxnta   \n",
       "2           2              ojzwnvwnxw vx   \n",
       "3           3                  ngpgutaxv   \n",
       "4           4                 qxen sqghu   \n",
       "\n",
       "                                          email_hash  orgyear      ctc  \\\n",
       "0  6de0a4417d18ab14334c3f43397fc13b30c35149d70c05...   2016.0  1100000   \n",
       "1  b0aaf1ac138b53cb6e039ba2c3d6604a250d02d5145c10...   2018.0   449999   \n",
       "2  4860c670bcd48fb96c02a4b0ae3608ae6fdd98176112e9...   2015.0  2000000   \n",
       "3  effdede7a2e7c2af664c8a31d9346385016128d66bbc58...   2017.0   700000   \n",
       "4  6ff54e709262f55cb999a1c1db8436cb2055d8f79ab520...   2017.0  1400000   \n",
       "\n",
       "         job_position  ctc_updated_year  \n",
       "0               Other            2020.0  \n",
       "1  FullStack Engineer            2019.0  \n",
       "2    Backend Engineer            2020.0  \n",
       "3    Backend Engineer            2019.0  \n",
       "4  FullStack Engineer            2019.0  "
      ]
     },
     "execution_count": 4,
     "metadata": {},
     "output_type": "execute_result"
    }
   ],
   "source": [
    "df.head()"
   ]
  },
  {
   "cell_type": "code",
   "execution_count": 5,
   "id": "4812920c",
   "metadata": {},
   "outputs": [
    {
     "data": {
      "text/plain": [
       "(205843, 7)"
      ]
     },
     "execution_count": 5,
     "metadata": {},
     "output_type": "execute_result"
    }
   ],
   "source": [
    "df.shape"
   ]
  },
  {
   "cell_type": "markdown",
   "id": "c50df4f9",
   "metadata": {},
   "source": [
    "205843 records present in the dataset"
   ]
  },
  {
   "cell_type": "markdown",
   "id": "96793337",
   "metadata": {},
   "source": [
    "Checking datatype of each features"
   ]
  },
  {
   "cell_type": "code",
   "execution_count": 6,
   "id": "09528b62",
   "metadata": {},
   "outputs": [
    {
     "name": "stdout",
     "output_type": "stream",
     "text": [
      "<class 'pandas.core.frame.DataFrame'>\n",
      "RangeIndex: 205843 entries, 0 to 205842\n",
      "Data columns (total 7 columns):\n",
      " #   Column            Non-Null Count   Dtype  \n",
      "---  ------            --------------   -----  \n",
      " 0   Unnamed: 0        205843 non-null  int64  \n",
      " 1   company_hash      205799 non-null  object \n",
      " 2   email_hash        205843 non-null  object \n",
      " 3   orgyear           205757 non-null  float64\n",
      " 4   ctc               205843 non-null  int64  \n",
      " 5   job_position      153281 non-null  object \n",
      " 6   ctc_updated_year  205843 non-null  float64\n",
      "dtypes: float64(2), int64(2), object(3)\n",
      "memory usage: 11.0+ MB\n"
     ]
    }
   ],
   "source": [
    "df.info()"
   ]
  },
  {
   "cell_type": "markdown",
   "id": "061481a3",
   "metadata": {},
   "source": [
    "Dropping the unwanted column"
   ]
  },
  {
   "cell_type": "code",
   "execution_count": 7,
   "id": "b783a60e",
   "metadata": {},
   "outputs": [],
   "source": [
    "df.drop(columns=['Unnamed: 0'],axis=1, inplace=True)"
   ]
  },
  {
   "cell_type": "code",
   "execution_count": 8,
   "id": "bc520383",
   "metadata": {},
   "outputs": [
    {
     "data": {
      "text/html": [
       "<div>\n",
       "<style scoped>\n",
       "    .dataframe tbody tr th:only-of-type {\n",
       "        vertical-align: middle;\n",
       "    }\n",
       "\n",
       "    .dataframe tbody tr th {\n",
       "        vertical-align: top;\n",
       "    }\n",
       "\n",
       "    .dataframe thead th {\n",
       "        text-align: right;\n",
       "    }\n",
       "</style>\n",
       "<table border=\"1\" class=\"dataframe\">\n",
       "  <thead>\n",
       "    <tr style=\"text-align: right;\">\n",
       "      <th></th>\n",
       "      <th>orgyear</th>\n",
       "      <th>ctc</th>\n",
       "      <th>ctc_updated_year</th>\n",
       "    </tr>\n",
       "  </thead>\n",
       "  <tbody>\n",
       "    <tr>\n",
       "      <th>count</th>\n",
       "      <td>205757.000000</td>\n",
       "      <td>2.058430e+05</td>\n",
       "      <td>205843.000000</td>\n",
       "    </tr>\n",
       "    <tr>\n",
       "      <th>mean</th>\n",
       "      <td>2014.882750</td>\n",
       "      <td>2.271685e+06</td>\n",
       "      <td>2019.628231</td>\n",
       "    </tr>\n",
       "    <tr>\n",
       "      <th>std</th>\n",
       "      <td>63.571115</td>\n",
       "      <td>1.180091e+07</td>\n",
       "      <td>1.325104</td>\n",
       "    </tr>\n",
       "    <tr>\n",
       "      <th>min</th>\n",
       "      <td>0.000000</td>\n",
       "      <td>2.000000e+00</td>\n",
       "      <td>2015.000000</td>\n",
       "    </tr>\n",
       "    <tr>\n",
       "      <th>25%</th>\n",
       "      <td>2013.000000</td>\n",
       "      <td>5.300000e+05</td>\n",
       "      <td>2019.000000</td>\n",
       "    </tr>\n",
       "    <tr>\n",
       "      <th>50%</th>\n",
       "      <td>2016.000000</td>\n",
       "      <td>9.500000e+05</td>\n",
       "      <td>2020.000000</td>\n",
       "    </tr>\n",
       "    <tr>\n",
       "      <th>75%</th>\n",
       "      <td>2018.000000</td>\n",
       "      <td>1.700000e+06</td>\n",
       "      <td>2021.000000</td>\n",
       "    </tr>\n",
       "    <tr>\n",
       "      <th>max</th>\n",
       "      <td>20165.000000</td>\n",
       "      <td>1.000150e+09</td>\n",
       "      <td>2021.000000</td>\n",
       "    </tr>\n",
       "  </tbody>\n",
       "</table>\n",
       "</div>"
      ],
      "text/plain": [
       "             orgyear           ctc  ctc_updated_year\n",
       "count  205757.000000  2.058430e+05     205843.000000\n",
       "mean     2014.882750  2.271685e+06       2019.628231\n",
       "std        63.571115  1.180091e+07          1.325104\n",
       "min         0.000000  2.000000e+00       2015.000000\n",
       "25%      2013.000000  5.300000e+05       2019.000000\n",
       "50%      2016.000000  9.500000e+05       2020.000000\n",
       "75%      2018.000000  1.700000e+06       2021.000000\n",
       "max     20165.000000  1.000150e+09       2021.000000"
      ]
     },
     "execution_count": 8,
     "metadata": {},
     "output_type": "execute_result"
    }
   ],
   "source": [
    "df.describe()"
   ]
  },
  {
   "cell_type": "code",
   "execution_count": 9,
   "id": "9133e459",
   "metadata": {
    "scrolled": true
   },
   "outputs": [
    {
     "name": "stdout",
     "output_type": "stream",
     "text": [
      "company_hash :  ['atrgxnnt xzaxv' 'qtrxvzwt xzegwgbb rxbxnta' 'ojzwnvwnxw vx' ...\n",
      " 'ztdnowb xzwqtee' 'mrht onvnt axsxnvr' 'bvptbjnqxu td vbvkgz']\n",
      "\n",
      "job_position :  ['Other' 'FullStack Engineer' 'Backend Engineer' ... 'Web / UI Designer'\n",
      " 'Azure data Factory' 'Android Application developer']\n",
      "\n"
     ]
    }
   ],
   "source": [
    "lis=['company_hash','job_position']\n",
    "\n",
    "for i in lis:\n",
    "    print(i, ': ',df[i].unique())\n",
    "    print()"
   ]
  },
  {
   "cell_type": "code",
   "execution_count": 10,
   "id": "1dfcafc9",
   "metadata": {},
   "outputs": [
    {
     "data": {
      "text/plain": [
       "array(['Operations Manager', 'Senior Engineer', 'Toyota',\n",
       "       'Intern-data analyst', 'Senior Data Engineer', 'operation',\n",
       "       'Associate  software  engineer ', 'Technical Manager ',\n",
       "       'Senior SDET', 'Escalation Engineer'], dtype=object)"
      ]
     },
     "execution_count": 10,
     "metadata": {},
     "output_type": "execute_result"
    }
   ],
   "source": [
    "df['job_position'].unique()[60:70]"
   ]
  },
  {
   "cell_type": "code",
   "execution_count": 11,
   "id": "be6ff512",
   "metadata": {},
   "outputs": [
    {
     "data": {
      "text/html": [
       "<div>\n",
       "<style scoped>\n",
       "    .dataframe tbody tr th:only-of-type {\n",
       "        vertical-align: middle;\n",
       "    }\n",
       "\n",
       "    .dataframe tbody tr th {\n",
       "        vertical-align: top;\n",
       "    }\n",
       "\n",
       "    .dataframe thead th {\n",
       "        text-align: right;\n",
       "    }\n",
       "</style>\n",
       "<table border=\"1\" class=\"dataframe\">\n",
       "  <thead>\n",
       "    <tr style=\"text-align: right;\">\n",
       "      <th></th>\n",
       "      <th>orgyear</th>\n",
       "      <th>ctc</th>\n",
       "      <th>ctc_updated_year</th>\n",
       "    </tr>\n",
       "  </thead>\n",
       "  <tbody>\n",
       "    <tr>\n",
       "      <th>count</th>\n",
       "      <td>5367.000000</td>\n",
       "      <td>5.368000e+03</td>\n",
       "      <td>5368.000000</td>\n",
       "    </tr>\n",
       "    <tr>\n",
       "      <th>mean</th>\n",
       "      <td>2013.869014</td>\n",
       "      <td>1.992280e+06</td>\n",
       "      <td>2019.316505</td>\n",
       "    </tr>\n",
       "    <tr>\n",
       "      <th>std</th>\n",
       "      <td>47.778543</td>\n",
       "      <td>8.006034e+06</td>\n",
       "      <td>1.055852</td>\n",
       "    </tr>\n",
       "    <tr>\n",
       "      <th>min</th>\n",
       "      <td>1.000000</td>\n",
       "      <td>4.000000e+03</td>\n",
       "      <td>2015.000000</td>\n",
       "    </tr>\n",
       "    <tr>\n",
       "      <th>25%</th>\n",
       "      <td>2013.000000</td>\n",
       "      <td>7.000000e+05</td>\n",
       "      <td>2019.000000</td>\n",
       "    </tr>\n",
       "    <tr>\n",
       "      <th>50%</th>\n",
       "      <td>2016.000000</td>\n",
       "      <td>1.200000e+06</td>\n",
       "      <td>2019.000000</td>\n",
       "    </tr>\n",
       "    <tr>\n",
       "      <th>75%</th>\n",
       "      <td>2018.000000</td>\n",
       "      <td>1.900000e+06</td>\n",
       "      <td>2020.000000</td>\n",
       "    </tr>\n",
       "    <tr>\n",
       "      <th>max</th>\n",
       "      <td>2204.000000</td>\n",
       "      <td>2.000000e+08</td>\n",
       "      <td>2021.000000</td>\n",
       "    </tr>\n",
       "  </tbody>\n",
       "</table>\n",
       "</div>"
      ],
      "text/plain": [
       "           orgyear           ctc  ctc_updated_year\n",
       "count  5367.000000  5.368000e+03       5368.000000\n",
       "mean   2013.869014  1.992280e+06       2019.316505\n",
       "std      47.778543  8.006034e+06          1.055852\n",
       "min       1.000000  4.000000e+03       2015.000000\n",
       "25%    2013.000000  7.000000e+05       2019.000000\n",
       "50%    2016.000000  1.200000e+06       2019.000000\n",
       "75%    2018.000000  1.900000e+06       2020.000000\n",
       "max    2204.000000  2.000000e+08       2021.000000"
      ]
     },
     "execution_count": 11,
     "metadata": {},
     "output_type": "execute_result"
    }
   ],
   "source": [
    "df[df['job_position']=='Data Scientist'].describe()"
   ]
  },
  {
   "cell_type": "code",
   "execution_count": 12,
   "id": "f0f2ef99",
   "metadata": {},
   "outputs": [
    {
     "data": {
      "text/html": [
       "<div>\n",
       "<style scoped>\n",
       "    .dataframe tbody tr th:only-of-type {\n",
       "        vertical-align: middle;\n",
       "    }\n",
       "\n",
       "    .dataframe tbody tr th {\n",
       "        vertical-align: top;\n",
       "    }\n",
       "\n",
       "    .dataframe thead th {\n",
       "        text-align: right;\n",
       "    }\n",
       "</style>\n",
       "<table border=\"1\" class=\"dataframe\">\n",
       "  <thead>\n",
       "    <tr style=\"text-align: right;\">\n",
       "      <th></th>\n",
       "      <th>company_hash</th>\n",
       "      <th>email_hash</th>\n",
       "      <th>orgyear</th>\n",
       "      <th>ctc</th>\n",
       "      <th>job_position</th>\n",
       "      <th>ctc_updated_year</th>\n",
       "    </tr>\n",
       "  </thead>\n",
       "  <tbody>\n",
       "    <tr>\n",
       "      <th>0</th>\n",
       "      <td>atrgxnnt xzaxv</td>\n",
       "      <td>6de0a4417d18ab14334c3f43397fc13b30c35149d70c05...</td>\n",
       "      <td>2016.0</td>\n",
       "      <td>1100000</td>\n",
       "      <td>Other</td>\n",
       "      <td>2020.0</td>\n",
       "    </tr>\n",
       "    <tr>\n",
       "      <th>1</th>\n",
       "      <td>qtrxvzwt xzegwgbb rxbxnta</td>\n",
       "      <td>b0aaf1ac138b53cb6e039ba2c3d6604a250d02d5145c10...</td>\n",
       "      <td>2018.0</td>\n",
       "      <td>449999</td>\n",
       "      <td>FullStack Engineer</td>\n",
       "      <td>2019.0</td>\n",
       "    </tr>\n",
       "    <tr>\n",
       "      <th>2</th>\n",
       "      <td>ojzwnvwnxw vx</td>\n",
       "      <td>4860c670bcd48fb96c02a4b0ae3608ae6fdd98176112e9...</td>\n",
       "      <td>2015.0</td>\n",
       "      <td>2000000</td>\n",
       "      <td>Backend Engineer</td>\n",
       "      <td>2020.0</td>\n",
       "    </tr>\n",
       "    <tr>\n",
       "      <th>3</th>\n",
       "      <td>ngpgutaxv</td>\n",
       "      <td>effdede7a2e7c2af664c8a31d9346385016128d66bbc58...</td>\n",
       "      <td>2017.0</td>\n",
       "      <td>700000</td>\n",
       "      <td>Backend Engineer</td>\n",
       "      <td>2019.0</td>\n",
       "    </tr>\n",
       "    <tr>\n",
       "      <th>4</th>\n",
       "      <td>qxen sqghu</td>\n",
       "      <td>6ff54e709262f55cb999a1c1db8436cb2055d8f79ab520...</td>\n",
       "      <td>2017.0</td>\n",
       "      <td>1400000</td>\n",
       "      <td>FullStack Engineer</td>\n",
       "      <td>2019.0</td>\n",
       "    </tr>\n",
       "  </tbody>\n",
       "</table>\n",
       "</div>"
      ],
      "text/plain": [
       "                company_hash  \\\n",
       "0             atrgxnnt xzaxv   \n",
       "1  qtrxvzwt xzegwgbb rxbxnta   \n",
       "2              ojzwnvwnxw vx   \n",
       "3                  ngpgutaxv   \n",
       "4                 qxen sqghu   \n",
       "\n",
       "                                          email_hash  orgyear      ctc  \\\n",
       "0  6de0a4417d18ab14334c3f43397fc13b30c35149d70c05...   2016.0  1100000   \n",
       "1  b0aaf1ac138b53cb6e039ba2c3d6604a250d02d5145c10...   2018.0   449999   \n",
       "2  4860c670bcd48fb96c02a4b0ae3608ae6fdd98176112e9...   2015.0  2000000   \n",
       "3  effdede7a2e7c2af664c8a31d9346385016128d66bbc58...   2017.0   700000   \n",
       "4  6ff54e709262f55cb999a1c1db8436cb2055d8f79ab520...   2017.0  1400000   \n",
       "\n",
       "         job_position  ctc_updated_year  \n",
       "0               Other            2020.0  \n",
       "1  FullStack Engineer            2019.0  \n",
       "2    Backend Engineer            2020.0  \n",
       "3    Backend Engineer            2019.0  \n",
       "4  FullStack Engineer            2019.0  "
      ]
     },
     "execution_count": 12,
     "metadata": {},
     "output_type": "execute_result"
    }
   ],
   "source": [
    "df.head()"
   ]
  },
  {
   "cell_type": "markdown",
   "id": "c55d4f8b",
   "metadata": {},
   "source": [
    "Checking unique emails and frequency of occurrence of the same email hash in the data"
   ]
  },
  {
   "cell_type": "code",
   "execution_count": 13,
   "id": "f460906a",
   "metadata": {},
   "outputs": [
    {
     "data": {
      "text/plain": [
       "bbace3cc586400bbc65765bc6a16b77d8913836cfc98b77c05488f02f5714a4b    10\n",
       "6842660273f70e9aa239026ba33bfe82275d6ab0d20124021b952b5bc3d07e6c     9\n",
       "298528ce3160cc761e4dc37a07337ee2e0589df251d73645aae209b010210eee     9\n",
       "3e5e49daa5527a6d5a33599b238bf9bf31e85b9efa9a94f1c88c5e15a6f31378     9\n",
       "b4d5afa09bec8689017d8b29701b80d664ca37b83cb883376b2e95191320da66     8\n",
       "faf40195f8c58d5c7edc758cc725a762d51920da996410b80ac4a4d85c803da0     8\n",
       "4818edfd67ed8563dde5d083306485d91d19f4f1c95d193a1700e79dd245b75c     8\n",
       "c0eb129061675da412b0deb15871dd06ef0d7cd86eb5f7e8cc6a20b0d1938183     8\n",
       "d598d6f1fb21b45593c2afc1c2f76ae9f4cb7167156cdf93246d4192a89d8065     8\n",
       "d15041f58bb01c8ee29f72e33b136e26bc32f3169a40b53d75fe7ae9cbb9a551     8\n",
       "aacf9473e3cee3e3f7c322e49bb8a6d5346bb05f3ff5bb9e9ac3ae22729ab933     7\n",
       "10ac4f847a1d45c7f325ececfe44c04714b739a3317878c35b818eea61d232fa     7\n",
       "e17d6b29cce52c81cdde98bfc8bc7cac002e2c8150029a06d2e79ddbf6b8b754     7\n",
       "b46e8caae1e78618a00f05c423afeaae37819a36b4dbb3b8b26b6ed2966bd7a3     7\n",
       "c832dfd7457aeb0476d7ec66e17c91879aab7cfda8ff641dc495b86cc957d2e8     7\n",
       "965af3ce801e20c727fbb64cc0c6bf898aeaedf501a4329a5268763a92efc2ff     7\n",
       "94b5594a8a0757a23c4521a09b19ff3de75ec1f5da6f7ee85069364711107f07     7\n",
       "5dcd62ab1a606642f3dde6f536f5a343a8e943f215c463f945dd1bad9bff1531     7\n",
       "f5279f186abfb98a09d85a4467b99863c0bfc91c1147e542d6d23a6a69c9a7be     7\n",
       "a7783035a9c89059383053ae533f6004e580c82eac0e657112d8275145fedf03     7\n",
       "e47528ec80e00768b2a40c4e80681269eca274e47158d1e84873d362557ef72b     7\n",
       "021ea9c97b6b287336e9345f39f9308c33ccbd15ac366d5f26f60032097ec26c     7\n",
       "5052dd6c8f72543e9510cd9ecb5d39351833b96235465689fa03052d971f8cf5     7\n",
       "caf66f38a8e742b7690dceb5b02d81ad8be684cfb6dd29b639a385b83748110b     7\n",
       "f3258dc45caf3f3d09bb03a2880cadf85f277cf299c3b179834fb10a64640382     7\n",
       "b4eb2cb12a7d04d2e0e0a6f40340b98bef4c669b4ef5d53722d8e7effddb7bdb     6\n",
       "ca89666311f589646ffd0860db840bfcff64d90cea6aab1687ca23e49c776f6e     6\n",
       "dfdf713524e5de58b10ee1700c976e18a32635e5f57867e958255aeb0f7a150a     6\n",
       "8d7e516f21245bee0411f2182c621e71df968833be2dffe16190e28cf95011da     6\n",
       "c224aada9ae9c447af8ef8ac31fc14fb8f8bfcc461fd3add8a6417a309b9157f     6\n",
       "Name: email_hash, dtype: int64"
      ]
     },
     "execution_count": 13,
     "metadata": {},
     "output_type": "execute_result"
    }
   ],
   "source": [
    "df['email_hash'].value_counts()[0:30]"
   ]
  },
  {
   "cell_type": "markdown",
   "id": "5d0d67d0",
   "metadata": {},
   "source": [
    "More than 10 people have 8 or more job or ctc change"
   ]
  },
  {
   "cell_type": "code",
   "execution_count": 14,
   "id": "2d2b4724",
   "metadata": {},
   "outputs": [
    {
     "data": {
      "text/plain": [
       "nvnv wgzohrnvzwj otqcxwto         8337\n",
       "xzegojo                           5381\n",
       "vbvkgz                            3481\n",
       "zgn vuurxwvmrt vwwghzn            3411\n",
       "wgszxkvzn                         3240\n",
       "                                  ... \n",
       "onvqmhwpo                            1\n",
       "bvsxw ogenfvqt uqxcvnt rxbxnta       1\n",
       "agsbv ojontbo                        1\n",
       "vnnhzt xzegwgb                       1\n",
       "bvptbjnqxu td vbvkgz                 1\n",
       "Name: company_hash, Length: 37299, dtype: int64"
      ]
     },
     "execution_count": 14,
     "metadata": {},
     "output_type": "execute_result"
    }
   ],
   "source": [
    "df['company_hash'].value_counts()"
   ]
  },
  {
   "cell_type": "markdown",
   "id": "0eabaf2f",
   "metadata": {},
   "source": [
    "Most of the people are working in 'nvnv wgzohrnvzwj otqcxwto' followed by 'xzegojo' and 'vbvkgz'"
   ]
  },
  {
   "cell_type": "code",
   "execution_count": 15,
   "id": "1bd2929b",
   "metadata": {},
   "outputs": [
    {
     "data": {
      "text/plain": [
       "Backend Engineer                  43554\n",
       "FullStack Engineer                24717\n",
       "Other                             18071\n",
       "Frontend Engineer                 10417\n",
       "Engineering Leadership             6870\n",
       "                                  ...  \n",
       "ayS                                   1\n",
       "Principal Product Engineer            1\n",
       "Senior Director of Engineering        1\n",
       "Seller Support Associate              1\n",
       "Android Application developer         1\n",
       "Name: job_position, Length: 1017, dtype: int64"
      ]
     },
     "execution_count": 15,
     "metadata": {},
     "output_type": "execute_result"
    }
   ],
   "source": [
    "df['job_position'].value_counts()"
   ]
  },
  {
   "cell_type": "markdown",
   "id": "2ef30c6e",
   "metadata": {},
   "source": [
    "## Data Preprocessing"
   ]
  },
  {
   "cell_type": "markdown",
   "id": "273ae7dc",
   "metadata": {},
   "source": [
    "### Outlier treatment\n"
   ]
  },
  {
   "cell_type": "code",
   "execution_count": 16,
   "id": "c8092119",
   "metadata": {},
   "outputs": [
    {
     "data": {
      "text/plain": [
       "<AxesSubplot:ylabel='ctc'>"
      ]
     },
     "execution_count": 16,
     "metadata": {},
     "output_type": "execute_result"
    },
    {
     "data": {
      "image/png": "[encoded data removed]",
      "text/plain": [
       "<Figure size 640x480 with 1 Axes>"
      ]
     },
     "metadata": {},
     "output_type": "display_data"
    }
   ],
   "source": [
    "sns.boxplot(data=df,y='ctc')"
   ]
  },
  {
   "cell_type": "code",
   "execution_count": 17,
   "id": "79c0dcf8",
   "metadata": {},
   "outputs": [
    {
     "data": {
      "text/plain": [
       "<AxesSubplot:ylabel='orgyear'>"
      ]
     },
     "execution_count": 17,
     "metadata": {},
     "output_type": "execute_result"
    },
    {
     "data": {
      "image/png": "[encoded data removed]",
      "text/plain": [
       "<Figure size 640x480 with 1 Axes>"
      ]
     },
     "metadata": {},
     "output_type": "display_data"
    }
   ],
   "source": [
    "sns.boxplot(data=df,y='orgyear')"
   ]
  },
  {
   "cell_type": "code",
   "execution_count": 18,
   "id": "a9d73e55",
   "metadata": {},
   "outputs": [],
   "source": [
    "Q1 = np.percentile(df['ctc'], 25, interpolation = 'midpoint')\n",
    "Q2 = np.percentile(df['ctc'], 50, interpolation = 'midpoint')\n",
    "Q3 = np.percentile(df['ctc'], 75, interpolation = 'midpoint')\n",
    "IQR = Q3 - Q1\n",
    "low_lim = Q1 - 1.5 * IQR\n",
    "up_lim = Q3 + 1.5 * IQR\n",
    "\n",
    "df=df[(df['ctc']>low_lim) & (df['ctc']<up_lim)]"
   ]
  },
  {
   "cell_type": "code",
   "execution_count": 19,
   "id": "9d6d9cb1",
   "metadata": {},
   "outputs": [],
   "source": [
    "# Q1 = np.percentile(df['orgyear'], 25, interpolation = 'midpoint')\n",
    "# Q2 = np.percentile(df['orgyear'], 50, interpolation = 'midpoint')\n",
    "# Q3 = np.percentile(df['orgyear'], 75, interpolation = 'midpoint')\n",
    "# IQR = Q3 - Q1\n",
    "# low_lim = Q1 - 1.5 * IQR\n",
    "# up_lim = Q3 + 1.5 * IQR\n",
    "\n",
    "# df=df[(df['orgyear']>low_lim) & (df['orgyear']<up_lim)]"
   ]
  },
  {
   "cell_type": "markdown",
   "id": "db25068f",
   "metadata": {},
   "source": [
    "### Checking for duplicates in the dataset and drop them"
   ]
  },
  {
   "cell_type": "code",
   "execution_count": 20,
   "id": "ed6e2686",
   "metadata": {},
   "outputs": [
    {
     "data": {
      "text/plain": [
       "(192716, 6)"
      ]
     },
     "execution_count": 20,
     "metadata": {},
     "output_type": "execute_result"
    }
   ],
   "source": [
    "df.shape"
   ]
  },
  {
   "cell_type": "code",
   "execution_count": 21,
   "id": "9681d3bd",
   "metadata": {},
   "outputs": [],
   "source": [
    "df.drop_duplicates(inplace=True)"
   ]
  },
  {
   "cell_type": "code",
   "execution_count": 22,
   "id": "7f5794c6",
   "metadata": {},
   "outputs": [
    {
     "data": {
      "text/plain": [
       "(192684, 6)"
      ]
     },
     "execution_count": 22,
     "metadata": {},
     "output_type": "execute_result"
    }
   ],
   "source": [
    "df.shape"
   ]
  },
  {
   "cell_type": "markdown",
   "id": "45e024c1",
   "metadata": {},
   "source": [
    "33 entries removed"
   ]
  },
  {
   "cell_type": "markdown",
   "id": "18941648",
   "metadata": {},
   "source": [
    "### Update cant be before jo1ning"
   ]
  },
  {
   "cell_type": "code",
   "execution_count": 23,
   "id": "6693cf86",
   "metadata": {},
   "outputs": [],
   "source": [
    "#_Update cant be before jo1ning\n",
    "df ['ctc_updated_year'] = df[['ctc_updated_year', 'orgyear']].max(axis=1)"
   ]
  },
  {
   "cell_type": "markdown",
   "id": "15e64655",
   "metadata": {},
   "source": [
    "### Making some new features (adding ‘Years of Experience’ column by subtracting orgyear from current year) "
   ]
  },
  {
   "cell_type": "code",
   "execution_count": 24,
   "id": "ef7646c2",
   "metadata": {},
   "outputs": [],
   "source": [
    "df['Year of Experience']=2023-df['orgyear']"
   ]
  },
  {
   "cell_type": "code",
   "execution_count": 25,
   "id": "9feac40a",
   "metadata": {},
   "outputs": [],
   "source": [
    "from sklearn.preprocessing import LabelEncoder"
   ]
  },
  {
   "cell_type": "code",
   "execution_count": 26,
   "id": "7e3b4410",
   "metadata": {},
   "outputs": [],
   "source": [
    "le = LabelEncoder()\n",
    "df['company_hash']=le.fit_transform(df['company_hash'])\n",
    "df['job_position']=le.fit_transform(df['job_position'])"
   ]
  },
  {
   "cell_type": "code",
   "execution_count": 27,
   "id": "907c0288",
   "metadata": {},
   "outputs": [
    {
     "data": {
      "text/html": [
       "<div>\n",
       "<style scoped>\n",
       "    .dataframe tbody tr th:only-of-type {\n",
       "        vertical-align: middle;\n",
       "    }\n",
       "\n",
       "    .dataframe tbody tr th {\n",
       "        vertical-align: top;\n",
       "    }\n",
       "\n",
       "    .dataframe thead th {\n",
       "        text-align: right;\n",
       "    }\n",
       "</style>\n",
       "<table border=\"1\" class=\"dataframe\">\n",
       "  <thead>\n",
       "    <tr style=\"text-align: right;\">\n",
       "      <th></th>\n",
       "      <th>company_hash</th>\n",
       "      <th>email_hash</th>\n",
       "      <th>orgyear</th>\n",
       "      <th>ctc</th>\n",
       "      <th>job_position</th>\n",
       "      <th>ctc_updated_year</th>\n",
       "      <th>Year of Experience</th>\n",
       "    </tr>\n",
       "  </thead>\n",
       "  <tbody>\n",
       "    <tr>\n",
       "      <th>0</th>\n",
       "      <td>921</td>\n",
       "      <td>6de0a4417d18ab14334c3f43397fc13b30c35149d70c05...</td>\n",
       "      <td>2016.0</td>\n",
       "      <td>1100000</td>\n",
       "      <td>437</td>\n",
       "      <td>2020.0</td>\n",
       "      <td>7.0</td>\n",
       "    </tr>\n",
       "    <tr>\n",
       "      <th>1</th>\n",
       "      <td>18817</td>\n",
       "      <td>b0aaf1ac138b53cb6e039ba2c3d6604a250d02d5145c10...</td>\n",
       "      <td>2018.0</td>\n",
       "      <td>449999</td>\n",
       "      <td>276</td>\n",
       "      <td>2019.0</td>\n",
       "      <td>5.0</td>\n",
       "    </tr>\n",
       "    <tr>\n",
       "      <th>2</th>\n",
       "      <td>14789</td>\n",
       "      <td>4860c670bcd48fb96c02a4b0ae3608ae6fdd98176112e9...</td>\n",
       "      <td>2015.0</td>\n",
       "      <td>2000000</td>\n",
       "      <td>136</td>\n",
       "      <td>2020.0</td>\n",
       "      <td>8.0</td>\n",
       "    </tr>\n",
       "    <tr>\n",
       "      <th>3</th>\n",
       "      <td>11533</td>\n",
       "      <td>effdede7a2e7c2af664c8a31d9346385016128d66bbc58...</td>\n",
       "      <td>2017.0</td>\n",
       "      <td>700000</td>\n",
       "      <td>136</td>\n",
       "      <td>2019.0</td>\n",
       "      <td>6.0</td>\n",
       "    </tr>\n",
       "    <tr>\n",
       "      <th>4</th>\n",
       "      <td>19288</td>\n",
       "      <td>6ff54e709262f55cb999a1c1db8436cb2055d8f79ab520...</td>\n",
       "      <td>2017.0</td>\n",
       "      <td>1400000</td>\n",
       "      <td>276</td>\n",
       "      <td>2019.0</td>\n",
       "      <td>6.0</td>\n",
       "    </tr>\n",
       "  </tbody>\n",
       "</table>\n",
       "</div>"
      ],
      "text/plain": [
       "   company_hash                                         email_hash  orgyear  \\\n",
       "0           921  6de0a4417d18ab14334c3f43397fc13b30c35149d70c05...   2016.0   \n",
       "1         18817  b0aaf1ac138b53cb6e039ba2c3d6604a250d02d5145c10...   2018.0   \n",
       "2         14789  4860c670bcd48fb96c02a4b0ae3608ae6fdd98176112e9...   2015.0   \n",
       "3         11533  effdede7a2e7c2af664c8a31d9346385016128d66bbc58...   2017.0   \n",
       "4         19288  6ff54e709262f55cb999a1c1db8436cb2055d8f79ab520...   2017.0   \n",
       "\n",
       "       ctc  job_position  ctc_updated_year  Year of Experience  \n",
       "0  1100000           437            2020.0                 7.0  \n",
       "1   449999           276            2019.0                 5.0  \n",
       "2  2000000           136            2020.0                 8.0  \n",
       "3   700000           136            2019.0                 6.0  \n",
       "4  1400000           276            2019.0                 6.0  "
      ]
     },
     "execution_count": 27,
     "metadata": {},
     "output_type": "execute_result"
    }
   ],
   "source": [
    "df.head()"
   ]
  },
  {
   "cell_type": "markdown",
   "id": "9ece4312",
   "metadata": {},
   "source": [
    "### RegX Cleaning"
   ]
  },
  {
   "cell_type": "code",
   "execution_count": 28,
   "id": "6f7dcbe6",
   "metadata": {},
   "outputs": [],
   "source": [
    "import re\n",
    "def preprocess_string (string):\n",
    "    new_string= re.sub('[A-Za-z]+', '', string).lower().strip()\n",
    "    return new_string"
   ]
  },
  {
   "cell_type": "code",
   "execution_count": 29,
   "id": "2db714f0",
   "metadata": {},
   "outputs": [],
   "source": [
    "df.job_position=df.job_position.apply(lambda x: preprocess_string(str(x)))\n",
    "df.company_hash=df.company_hash.apply(lambda x: preprocess_string(str(x)))"
   ]
  },
  {
   "cell_type": "markdown",
   "id": "fd433fe7",
   "metadata": {},
   "source": [
    "## Visual analysis"
   ]
  },
  {
   "cell_type": "markdown",
   "id": "e697cb38",
   "metadata": {},
   "source": [
    "### Univariate Analysis"
   ]
  },
  {
   "cell_type": "code",
   "execution_count": 30,
   "id": "ecf5230c",
   "metadata": {
    "scrolled": true
   },
   "outputs": [
    {
     "data": {
      "text/plain": [
       "[Text(0, 0, '-18142.0'),\n",
       " Text(1, 0, '-181.0'),\n",
       " Text(2, 0, '-84.0'),\n",
       " Text(3, 0, '-83.0'),\n",
       " Text(4, 0, '-78.0'),\n",
       " Text(5, 0, '-8.0'),\n",
       " Text(6, 0, '-6.0'),\n",
       " Text(7, 0, '-5.0'),\n",
       " Text(8, 0, '-4.0'),\n",
       " Text(9, 0, '-3.0'),\n",
       " Text(10, 0, '-2.0'),\n",
       " Text(11, 0, '-1.0'),\n",
       " Text(12, 0, '0.0'),\n",
       " Text(13, 0, '1.0'),\n",
       " Text(14, 0, '2.0'),\n",
       " Text(15, 0, '3.0'),\n",
       " Text(16, 0, '4.0'),\n",
       " Text(17, 0, '5.0'),\n",
       " Text(18, 0, '6.0'),\n",
       " Text(19, 0, '7.0'),\n",
       " Text(20, 0, '8.0'),\n",
       " Text(21, 0, '9.0'),\n",
       " Text(22, 0, '10.0'),\n",
       " Text(23, 0, '11.0'),\n",
       " Text(24, 0, '12.0'),\n",
       " Text(25, 0, '13.0'),\n",
       " Text(26, 0, '14.0'),\n",
       " Text(27, 0, '15.0'),\n",
       " Text(28, 0, '16.0'),\n",
       " Text(29, 0, '17.0'),\n",
       " Text(30, 0, '18.0'),\n",
       " Text(31, 0, '19.0'),\n",
       " Text(32, 0, '20.0'),\n",
       " Text(33, 0, '21.0'),\n",
       " Text(34, 0, '22.0'),\n",
       " Text(35, 0, '23.0'),\n",
       " Text(36, 0, '24.0'),\n",
       " Text(37, 0, '25.0'),\n",
       " Text(38, 0, '26.0'),\n",
       " Text(39, 0, '27.0'),\n",
       " Text(40, 0, '28.0'),\n",
       " Text(41, 0, '29.0'),\n",
       " Text(42, 0, '30.0'),\n",
       " Text(43, 0, '31.0'),\n",
       " Text(44, 0, '32.0'),\n",
       " Text(45, 0, '33.0'),\n",
       " Text(46, 0, '34.0'),\n",
       " Text(47, 0, '35.0'),\n",
       " Text(48, 0, '36.0'),\n",
       " Text(49, 0, '37.0'),\n",
       " Text(50, 0, '38.0'),\n",
       " Text(51, 0, '39.0'),\n",
       " Text(52, 0, '41.0'),\n",
       " Text(53, 0, '42.0'),\n",
       " Text(54, 0, '44.0'),\n",
       " Text(55, 0, '46.0'),\n",
       " Text(56, 0, '47.0'),\n",
       " Text(57, 0, '50.0'),\n",
       " Text(58, 0, '51.0'),\n",
       " Text(59, 0, '53.0'),\n",
       " Text(60, 0, '123.0'),\n",
       " Text(61, 0, '1814.0'),\n",
       " Text(62, 0, '1815.0'),\n",
       " Text(63, 0, '1817.0'),\n",
       " Text(64, 0, '1823.0'),\n",
       " Text(65, 0, '1932.0'),\n",
       " Text(66, 0, '1940.0'),\n",
       " Text(67, 0, '1985.0'),\n",
       " Text(68, 0, '2017.0'),\n",
       " Text(69, 0, '2018.0'),\n",
       " Text(70, 0, '2019.0'),\n",
       " Text(71, 0, '2020.0'),\n",
       " Text(72, 0, '2021.0'),\n",
       " Text(73, 0, '2022.0'),\n",
       " Text(74, 0, '2023.0')]"
      ]
     },
     "execution_count": 30,
     "metadata": {},
     "output_type": "execute_result"
    },
    {
     "data": {
      "image/png": "[encoded data removed]",
      "text/plain": [
       "<Figure size 640x480 with 1 Axes>"
      ]
     },
     "metadata": {},
     "output_type": "display_data"
    }
   ],
   "source": [
    "ax=sns.countplot(df['Year of Experience'])\n",
    "ax.set_xticklabels(ax.get_xticklabels(), rotation=90)"
   ]
  },
  {
   "cell_type": "markdown",
   "id": "852377db",
   "metadata": {},
   "source": [
    "Most of the learners are in a given range experience"
   ]
  },
  {
   "cell_type": "code",
   "execution_count": 31,
   "id": "d98a3a11",
   "metadata": {},
   "outputs": [
    {
     "data": {
      "text/plain": [
       "<AxesSubplot:xlabel='ctc', ylabel='Count'>"
      ]
     },
     "execution_count": 31,
     "metadata": {},
     "output_type": "execute_result"
    },
    {
     "data": {
      "image/png": "[encoded data removed]",
      "text/plain": [
       "<Figure size 640x480 with 1 Axes>"
      ]
     },
     "metadata": {},
     "output_type": "display_data"
    }
   ],
   "source": [
    "sns.histplot(np.log(df['ctc']))"
   ]
  },
  {
   "cell_type": "markdown",
   "id": "dfac897e",
   "metadata": {},
   "source": [
    "Most of the learners are in a given range of ctc. So while switching job they will look for high paying jobs"
   ]
  },
  {
   "cell_type": "markdown",
   "id": "afb6b1cc",
   "metadata": {},
   "source": [
    "### Bivariate Analysis"
   ]
  },
  {
   "cell_type": "code",
   "execution_count": 32,
   "id": "fffbaefd",
   "metadata": {},
   "outputs": [
    {
     "data": {
      "text/plain": [
       "<AxesSubplot:>"
      ]
     },
     "execution_count": 32,
     "metadata": {},
     "output_type": "execute_result"
    },
    {
     "data": {
      "image/png": "[encoded data removed]",
      "text/plain": [
       "<Figure size 640x480 with 2 Axes>"
      ]
     },
     "metadata": {},
     "output_type": "display_data"
    }
   ],
   "source": [
    "sns.heatmap(df.corr())"
   ]
  },
  {
   "cell_type": "markdown",
   "id": "1066a5a7",
   "metadata": {},
   "source": [
    "There is no significant correlation that can be noticed."
   ]
  },
  {
   "cell_type": "code",
   "execution_count": 33,
   "id": "784461f1",
   "metadata": {},
   "outputs": [
    {
     "data": {
      "text/plain": [
       "<seaborn.axisgrid.PairGrid at 0x2aa562953a0>"
      ]
     },
     "execution_count": 33,
     "metadata": {},
     "output_type": "execute_result"
    },
    {
     "data": {
      "image/png": "[encoded data removed]",
      "text/plain": [
       "<Figure size 1000x1000 with 20 Axes>"
      ]
     },
     "metadata": {},
     "output_type": "display_data"
    }
   ],
   "source": [
    "sns.pairplot(df)"
   ]
  },
  {
   "cell_type": "markdown",
   "id": "00f34d36",
   "metadata": {},
   "source": [
    "There is no significant correlation that can be noticed."
   ]
  },
  {
   "cell_type": "markdown",
   "id": "cc56f69a",
   "metadata": {},
   "source": [
    "## Manual Clustering "
   ]
  },
  {
   "cell_type": "markdown",
   "id": "14711ea4",
   "metadata": {},
   "source": [
    "### Company’s department having same Years of Experience "
   ]
  },
  {
   "cell_type": "code",
   "execution_count": 34,
   "id": "bbf6e06a",
   "metadata": {},
   "outputs": [],
   "source": [
    "grouped_ce = df.groupby(['company_hash', 'Year of Experience'])"
   ]
  },
  {
   "cell_type": "markdown",
   "id": "a2a3ddf0",
   "metadata": {},
   "source": [
    "Getting the 5 point summary of CTC (mean, median, max, min, count etc) on the basis of Company, Job Position, Years of Experience"
   ]
  },
  {
   "cell_type": "code",
   "execution_count": 35,
   "id": "45ab4ee9",
   "metadata": {},
   "outputs": [],
   "source": [
    "ctc_summary_ce = grouped_ce['ctc'].describe()[['mean', '50%', 'max', 'min', 'count']]\n",
    "ctc_summary_ce = ctc_summary_ce.rename(columns={'50%': 'median'})"
   ]
  },
  {
   "cell_type": "code",
   "execution_count": 36,
   "id": "35655403",
   "metadata": {},
   "outputs": [],
   "source": [
    "merged_df_ce = df.merge(ctc_summary_ce, on=['company_hash', 'Year of Experience'])"
   ]
  },
  {
   "cell_type": "code",
   "execution_count": 37,
   "id": "538c2f8f",
   "metadata": {},
   "outputs": [
    {
     "data": {
      "text/html": [
       "<div>\n",
       "<style scoped>\n",
       "    .dataframe tbody tr th:only-of-type {\n",
       "        vertical-align: middle;\n",
       "    }\n",
       "\n",
       "    .dataframe tbody tr th {\n",
       "        vertical-align: top;\n",
       "    }\n",
       "\n",
       "    .dataframe thead th {\n",
       "        text-align: right;\n",
       "    }\n",
       "</style>\n",
       "<table border=\"1\" class=\"dataframe\">\n",
       "  <thead>\n",
       "    <tr style=\"text-align: right;\">\n",
       "      <th></th>\n",
       "      <th>company_hash</th>\n",
       "      <th>email_hash</th>\n",
       "      <th>orgyear</th>\n",
       "      <th>ctc</th>\n",
       "      <th>job_position</th>\n",
       "      <th>ctc_updated_year</th>\n",
       "      <th>Year of Experience</th>\n",
       "      <th>mean</th>\n",
       "      <th>median</th>\n",
       "      <th>max</th>\n",
       "      <th>min</th>\n",
       "      <th>count</th>\n",
       "    </tr>\n",
       "  </thead>\n",
       "  <tbody>\n",
       "    <tr>\n",
       "      <th>0</th>\n",
       "      <td>921</td>\n",
       "      <td>6de0a4417d18ab14334c3f43397fc13b30c35149d70c05...</td>\n",
       "      <td>2016.0</td>\n",
       "      <td>1100000</td>\n",
       "      <td>437</td>\n",
       "      <td>2020.0</td>\n",
       "      <td>7.0</td>\n",
       "      <td>1.100000e+06</td>\n",
       "      <td>1100000.0</td>\n",
       "      <td>1100000.0</td>\n",
       "      <td>1100000.0</td>\n",
       "      <td>1.0</td>\n",
       "    </tr>\n",
       "    <tr>\n",
       "      <th>1</th>\n",
       "      <td>18817</td>\n",
       "      <td>b0aaf1ac138b53cb6e039ba2c3d6604a250d02d5145c10...</td>\n",
       "      <td>2018.0</td>\n",
       "      <td>449999</td>\n",
       "      <td>276</td>\n",
       "      <td>2019.0</td>\n",
       "      <td>5.0</td>\n",
       "      <td>7.433384e+05</td>\n",
       "      <td>630000.0</td>\n",
       "      <td>2100000.0</td>\n",
       "      <td>10000.0</td>\n",
       "      <td>65.0</td>\n",
       "    </tr>\n",
       "    <tr>\n",
       "      <th>2</th>\n",
       "      <td>18817</td>\n",
       "      <td>8dcec4009f7a5bdd8c6a2af379b5763816563e25d814d0...</td>\n",
       "      <td>2018.0</td>\n",
       "      <td>700000</td>\n",
       "      <td>136</td>\n",
       "      <td>2020.0</td>\n",
       "      <td>5.0</td>\n",
       "      <td>7.433384e+05</td>\n",
       "      <td>630000.0</td>\n",
       "      <td>2100000.0</td>\n",
       "      <td>10000.0</td>\n",
       "      <td>65.0</td>\n",
       "    </tr>\n",
       "    <tr>\n",
       "      <th>3</th>\n",
       "      <td>18817</td>\n",
       "      <td>f4fa64972185ac2b73e99c0cc10d1bf50d6dbfbc9a2cba...</td>\n",
       "      <td>2018.0</td>\n",
       "      <td>620000</td>\n",
       "      <td>276</td>\n",
       "      <td>2020.0</td>\n",
       "      <td>5.0</td>\n",
       "      <td>7.433384e+05</td>\n",
       "      <td>630000.0</td>\n",
       "      <td>2100000.0</td>\n",
       "      <td>10000.0</td>\n",
       "      <td>65.0</td>\n",
       "    </tr>\n",
       "    <tr>\n",
       "      <th>4</th>\n",
       "      <td>18817</td>\n",
       "      <td>be3bcde831f8816f2bad9781f1282f09908f803c2fafb3...</td>\n",
       "      <td>2018.0</td>\n",
       "      <td>950000</td>\n",
       "      <td>276</td>\n",
       "      <td>2021.0</td>\n",
       "      <td>5.0</td>\n",
       "      <td>7.433384e+05</td>\n",
       "      <td>630000.0</td>\n",
       "      <td>2100000.0</td>\n",
       "      <td>10000.0</td>\n",
       "      <td>65.0</td>\n",
       "    </tr>\n",
       "    <tr>\n",
       "      <th>5</th>\n",
       "      <td>18817</td>\n",
       "      <td>3fde2d8b375672193f1a7a7785ba20d0f47f019f01f104...</td>\n",
       "      <td>2018.0</td>\n",
       "      <td>1070000</td>\n",
       "      <td>136</td>\n",
       "      <td>2021.0</td>\n",
       "      <td>5.0</td>\n",
       "      <td>7.433384e+05</td>\n",
       "      <td>630000.0</td>\n",
       "      <td>2100000.0</td>\n",
       "      <td>10000.0</td>\n",
       "      <td>65.0</td>\n",
       "    </tr>\n",
       "    <tr>\n",
       "      <th>6</th>\n",
       "      <td>18817</td>\n",
       "      <td>e863bbe699c9168980e7ae5643c16671ea812d2d433cbf...</td>\n",
       "      <td>2018.0</td>\n",
       "      <td>600000</td>\n",
       "      <td>136</td>\n",
       "      <td>2021.0</td>\n",
       "      <td>5.0</td>\n",
       "      <td>7.433384e+05</td>\n",
       "      <td>630000.0</td>\n",
       "      <td>2100000.0</td>\n",
       "      <td>10000.0</td>\n",
       "      <td>65.0</td>\n",
       "    </tr>\n",
       "    <tr>\n",
       "      <th>7</th>\n",
       "      <td>18817</td>\n",
       "      <td>ddf45c7b7bd4c461890121c416b2fdff9ba34fbaea2ad4...</td>\n",
       "      <td>2018.0</td>\n",
       "      <td>750000</td>\n",
       "      <td>276</td>\n",
       "      <td>2020.0</td>\n",
       "      <td>5.0</td>\n",
       "      <td>7.433384e+05</td>\n",
       "      <td>630000.0</td>\n",
       "      <td>2100000.0</td>\n",
       "      <td>10000.0</td>\n",
       "      <td>65.0</td>\n",
       "    </tr>\n",
       "    <tr>\n",
       "      <th>8</th>\n",
       "      <td>18817</td>\n",
       "      <td>2ab5a1559304d74d3698a203bd8d0555e67e1895244309...</td>\n",
       "      <td>2018.0</td>\n",
       "      <td>900000</td>\n",
       "      <td>136</td>\n",
       "      <td>2020.0</td>\n",
       "      <td>5.0</td>\n",
       "      <td>7.433384e+05</td>\n",
       "      <td>630000.0</td>\n",
       "      <td>2100000.0</td>\n",
       "      <td>10000.0</td>\n",
       "      <td>65.0</td>\n",
       "    </tr>\n",
       "    <tr>\n",
       "      <th>9</th>\n",
       "      <td>18817</td>\n",
       "      <td>04b77ebfcc101c3dbb390a157b110b31646d6d7c71e650...</td>\n",
       "      <td>2018.0</td>\n",
       "      <td>500000</td>\n",
       "      <td>136</td>\n",
       "      <td>2020.0</td>\n",
       "      <td>5.0</td>\n",
       "      <td>7.433384e+05</td>\n",
       "      <td>630000.0</td>\n",
       "      <td>2100000.0</td>\n",
       "      <td>10000.0</td>\n",
       "      <td>65.0</td>\n",
       "    </tr>\n",
       "  </tbody>\n",
       "</table>\n",
       "</div>"
      ],
      "text/plain": [
       "  company_hash                                         email_hash  orgyear  \\\n",
       "0          921  6de0a4417d18ab14334c3f43397fc13b30c35149d70c05...   2016.0   \n",
       "1        18817  b0aaf1ac138b53cb6e039ba2c3d6604a250d02d5145c10...   2018.0   \n",
       "2        18817  8dcec4009f7a5bdd8c6a2af379b5763816563e25d814d0...   2018.0   \n",
       "3        18817  f4fa64972185ac2b73e99c0cc10d1bf50d6dbfbc9a2cba...   2018.0   \n",
       "4        18817  be3bcde831f8816f2bad9781f1282f09908f803c2fafb3...   2018.0   \n",
       "5        18817  3fde2d8b375672193f1a7a7785ba20d0f47f019f01f104...   2018.0   \n",
       "6        18817  e863bbe699c9168980e7ae5643c16671ea812d2d433cbf...   2018.0   \n",
       "7        18817  ddf45c7b7bd4c461890121c416b2fdff9ba34fbaea2ad4...   2018.0   \n",
       "8        18817  2ab5a1559304d74d3698a203bd8d0555e67e1895244309...   2018.0   \n",
       "9        18817  04b77ebfcc101c3dbb390a157b110b31646d6d7c71e650...   2018.0   \n",
       "\n",
       "       ctc job_position  ctc_updated_year  Year of Experience          mean  \\\n",
       "0  1100000          437            2020.0                 7.0  1.100000e+06   \n",
       "1   449999          276            2019.0                 5.0  7.433384e+05   \n",
       "2   700000          136            2020.0                 5.0  7.433384e+05   \n",
       "3   620000          276            2020.0                 5.0  7.433384e+05   \n",
       "4   950000          276            2021.0                 5.0  7.433384e+05   \n",
       "5  1070000          136            2021.0                 5.0  7.433384e+05   \n",
       "6   600000          136            2021.0                 5.0  7.433384e+05   \n",
       "7   750000          276            2020.0                 5.0  7.433384e+05   \n",
       "8   900000          136            2020.0                 5.0  7.433384e+05   \n",
       "9   500000          136            2020.0                 5.0  7.433384e+05   \n",
       "\n",
       "      median        max        min  count  \n",
       "0  1100000.0  1100000.0  1100000.0    1.0  \n",
       "1   630000.0  2100000.0    10000.0   65.0  \n",
       "2   630000.0  2100000.0    10000.0   65.0  \n",
       "3   630000.0  2100000.0    10000.0   65.0  \n",
       "4   630000.0  2100000.0    10000.0   65.0  \n",
       "5   630000.0  2100000.0    10000.0   65.0  \n",
       "6   630000.0  2100000.0    10000.0   65.0  \n",
       "7   630000.0  2100000.0    10000.0   65.0  \n",
       "8   630000.0  2100000.0    10000.0   65.0  \n",
       "9   630000.0  2100000.0    10000.0   65.0  "
      ]
     },
     "execution_count": 37,
     "metadata": {},
     "output_type": "execute_result"
    }
   ],
   "source": [
    "merged_df_ce.head(10)"
   ]
  },
  {
   "cell_type": "code",
   "execution_count": 38,
   "id": "84cf62cb",
   "metadata": {},
   "outputs": [],
   "source": [
    "avg_ctc_ce = merged_df_ce.groupby(['company_hash', 'Year of Experience'])['mean'].transform('mean')\n",
    "merged_df_ce['Class Flag'] = merged_df_ce.apply(lambda row: 0 if row['ctc'] < avg_ctc_ce[row.name] else (1 if row['ctc'] == avg_ctc_ce[row.name] else 2), axis=1)"
   ]
  },
  {
   "cell_type": "code",
   "execution_count": 39,
   "id": "d147ab34",
   "metadata": {},
   "outputs": [
    {
     "data": {
      "text/html": [
       "<div>\n",
       "<style scoped>\n",
       "    .dataframe tbody tr th:only-of-type {\n",
       "        vertical-align: middle;\n",
       "    }\n",
       "\n",
       "    .dataframe tbody tr th {\n",
       "        vertical-align: top;\n",
       "    }\n",
       "\n",
       "    .dataframe thead th {\n",
       "        text-align: right;\n",
       "    }\n",
       "</style>\n",
       "<table border=\"1\" class=\"dataframe\">\n",
       "  <thead>\n",
       "    <tr style=\"text-align: right;\">\n",
       "      <th></th>\n",
       "      <th>company_hash</th>\n",
       "      <th>email_hash</th>\n",
       "      <th>orgyear</th>\n",
       "      <th>ctc</th>\n",
       "      <th>job_position</th>\n",
       "      <th>ctc_updated_year</th>\n",
       "      <th>Year of Experience</th>\n",
       "      <th>mean</th>\n",
       "      <th>median</th>\n",
       "      <th>max</th>\n",
       "      <th>min</th>\n",
       "      <th>count</th>\n",
       "      <th>Class Flag</th>\n",
       "    </tr>\n",
       "  </thead>\n",
       "  <tbody>\n",
       "    <tr>\n",
       "      <th>0</th>\n",
       "      <td>921</td>\n",
       "      <td>6de0a4417d18ab14334c3f43397fc13b30c35149d70c05...</td>\n",
       "      <td>2016.0</td>\n",
       "      <td>1100000</td>\n",
       "      <td>437</td>\n",
       "      <td>2020.0</td>\n",
       "      <td>7.0</td>\n",
       "      <td>1.100000e+06</td>\n",
       "      <td>1100000.0</td>\n",
       "      <td>1100000.0</td>\n",
       "      <td>1100000.0</td>\n",
       "      <td>1.0</td>\n",
       "      <td>1</td>\n",
       "    </tr>\n",
       "    <tr>\n",
       "      <th>1</th>\n",
       "      <td>18817</td>\n",
       "      <td>b0aaf1ac138b53cb6e039ba2c3d6604a250d02d5145c10...</td>\n",
       "      <td>2018.0</td>\n",
       "      <td>449999</td>\n",
       "      <td>276</td>\n",
       "      <td>2019.0</td>\n",
       "      <td>5.0</td>\n",
       "      <td>7.433384e+05</td>\n",
       "      <td>630000.0</td>\n",
       "      <td>2100000.0</td>\n",
       "      <td>10000.0</td>\n",
       "      <td>65.0</td>\n",
       "      <td>0</td>\n",
       "    </tr>\n",
       "    <tr>\n",
       "      <th>2</th>\n",
       "      <td>18817</td>\n",
       "      <td>8dcec4009f7a5bdd8c6a2af379b5763816563e25d814d0...</td>\n",
       "      <td>2018.0</td>\n",
       "      <td>700000</td>\n",
       "      <td>136</td>\n",
       "      <td>2020.0</td>\n",
       "      <td>5.0</td>\n",
       "      <td>7.433384e+05</td>\n",
       "      <td>630000.0</td>\n",
       "      <td>2100000.0</td>\n",
       "      <td>10000.0</td>\n",
       "      <td>65.0</td>\n",
       "      <td>0</td>\n",
       "    </tr>\n",
       "    <tr>\n",
       "      <th>3</th>\n",
       "      <td>18817</td>\n",
       "      <td>f4fa64972185ac2b73e99c0cc10d1bf50d6dbfbc9a2cba...</td>\n",
       "      <td>2018.0</td>\n",
       "      <td>620000</td>\n",
       "      <td>276</td>\n",
       "      <td>2020.0</td>\n",
       "      <td>5.0</td>\n",
       "      <td>7.433384e+05</td>\n",
       "      <td>630000.0</td>\n",
       "      <td>2100000.0</td>\n",
       "      <td>10000.0</td>\n",
       "      <td>65.0</td>\n",
       "      <td>0</td>\n",
       "    </tr>\n",
       "    <tr>\n",
       "      <th>4</th>\n",
       "      <td>18817</td>\n",
       "      <td>be3bcde831f8816f2bad9781f1282f09908f803c2fafb3...</td>\n",
       "      <td>2018.0</td>\n",
       "      <td>950000</td>\n",
       "      <td>276</td>\n",
       "      <td>2021.0</td>\n",
       "      <td>5.0</td>\n",
       "      <td>7.433384e+05</td>\n",
       "      <td>630000.0</td>\n",
       "      <td>2100000.0</td>\n",
       "      <td>10000.0</td>\n",
       "      <td>65.0</td>\n",
       "      <td>2</td>\n",
       "    </tr>\n",
       "    <tr>\n",
       "      <th>5</th>\n",
       "      <td>18817</td>\n",
       "      <td>3fde2d8b375672193f1a7a7785ba20d0f47f019f01f104...</td>\n",
       "      <td>2018.0</td>\n",
       "      <td>1070000</td>\n",
       "      <td>136</td>\n",
       "      <td>2021.0</td>\n",
       "      <td>5.0</td>\n",
       "      <td>7.433384e+05</td>\n",
       "      <td>630000.0</td>\n",
       "      <td>2100000.0</td>\n",
       "      <td>10000.0</td>\n",
       "      <td>65.0</td>\n",
       "      <td>2</td>\n",
       "    </tr>\n",
       "    <tr>\n",
       "      <th>6</th>\n",
       "      <td>18817</td>\n",
       "      <td>e863bbe699c9168980e7ae5643c16671ea812d2d433cbf...</td>\n",
       "      <td>2018.0</td>\n",
       "      <td>600000</td>\n",
       "      <td>136</td>\n",
       "      <td>2021.0</td>\n",
       "      <td>5.0</td>\n",
       "      <td>7.433384e+05</td>\n",
       "      <td>630000.0</td>\n",
       "      <td>2100000.0</td>\n",
       "      <td>10000.0</td>\n",
       "      <td>65.0</td>\n",
       "      <td>0</td>\n",
       "    </tr>\n",
       "    <tr>\n",
       "      <th>7</th>\n",
       "      <td>18817</td>\n",
       "      <td>ddf45c7b7bd4c461890121c416b2fdff9ba34fbaea2ad4...</td>\n",
       "      <td>2018.0</td>\n",
       "      <td>750000</td>\n",
       "      <td>276</td>\n",
       "      <td>2020.0</td>\n",
       "      <td>5.0</td>\n",
       "      <td>7.433384e+05</td>\n",
       "      <td>630000.0</td>\n",
       "      <td>2100000.0</td>\n",
       "      <td>10000.0</td>\n",
       "      <td>65.0</td>\n",
       "      <td>2</td>\n",
       "    </tr>\n",
       "    <tr>\n",
       "      <th>8</th>\n",
       "      <td>18817</td>\n",
       "      <td>2ab5a1559304d74d3698a203bd8d0555e67e1895244309...</td>\n",
       "      <td>2018.0</td>\n",
       "      <td>900000</td>\n",
       "      <td>136</td>\n",
       "      <td>2020.0</td>\n",
       "      <td>5.0</td>\n",
       "      <td>7.433384e+05</td>\n",
       "      <td>630000.0</td>\n",
       "      <td>2100000.0</td>\n",
       "      <td>10000.0</td>\n",
       "      <td>65.0</td>\n",
       "      <td>2</td>\n",
       "    </tr>\n",
       "    <tr>\n",
       "      <th>9</th>\n",
       "      <td>18817</td>\n",
       "      <td>04b77ebfcc101c3dbb390a157b110b31646d6d7c71e650...</td>\n",
       "      <td>2018.0</td>\n",
       "      <td>500000</td>\n",
       "      <td>136</td>\n",
       "      <td>2020.0</td>\n",
       "      <td>5.0</td>\n",
       "      <td>7.433384e+05</td>\n",
       "      <td>630000.0</td>\n",
       "      <td>2100000.0</td>\n",
       "      <td>10000.0</td>\n",
       "      <td>65.0</td>\n",
       "      <td>0</td>\n",
       "    </tr>\n",
       "  </tbody>\n",
       "</table>\n",
       "</div>"
      ],
      "text/plain": [
       "  company_hash                                         email_hash  orgyear  \\\n",
       "0          921  6de0a4417d18ab14334c3f43397fc13b30c35149d70c05...   2016.0   \n",
       "1        18817  b0aaf1ac138b53cb6e039ba2c3d6604a250d02d5145c10...   2018.0   \n",
       "2        18817  8dcec4009f7a5bdd8c6a2af379b5763816563e25d814d0...   2018.0   \n",
       "3        18817  f4fa64972185ac2b73e99c0cc10d1bf50d6dbfbc9a2cba...   2018.0   \n",
       "4        18817  be3bcde831f8816f2bad9781f1282f09908f803c2fafb3...   2018.0   \n",
       "5        18817  3fde2d8b375672193f1a7a7785ba20d0f47f019f01f104...   2018.0   \n",
       "6        18817  e863bbe699c9168980e7ae5643c16671ea812d2d433cbf...   2018.0   \n",
       "7        18817  ddf45c7b7bd4c461890121c416b2fdff9ba34fbaea2ad4...   2018.0   \n",
       "8        18817  2ab5a1559304d74d3698a203bd8d0555e67e1895244309...   2018.0   \n",
       "9        18817  04b77ebfcc101c3dbb390a157b110b31646d6d7c71e650...   2018.0   \n",
       "\n",
       "       ctc job_position  ctc_updated_year  Year of Experience          mean  \\\n",
       "0  1100000          437            2020.0                 7.0  1.100000e+06   \n",
       "1   449999          276            2019.0                 5.0  7.433384e+05   \n",
       "2   700000          136            2020.0                 5.0  7.433384e+05   \n",
       "3   620000          276            2020.0                 5.0  7.433384e+05   \n",
       "4   950000          276            2021.0                 5.0  7.433384e+05   \n",
       "5  1070000          136            2021.0                 5.0  7.433384e+05   \n",
       "6   600000          136            2021.0                 5.0  7.433384e+05   \n",
       "7   750000          276            2020.0                 5.0  7.433384e+05   \n",
       "8   900000          136            2020.0                 5.0  7.433384e+05   \n",
       "9   500000          136            2020.0                 5.0  7.433384e+05   \n",
       "\n",
       "      median        max        min  count  Class Flag  \n",
       "0  1100000.0  1100000.0  1100000.0    1.0           1  \n",
       "1   630000.0  2100000.0    10000.0   65.0           0  \n",
       "2   630000.0  2100000.0    10000.0   65.0           0  \n",
       "3   630000.0  2100000.0    10000.0   65.0           0  \n",
       "4   630000.0  2100000.0    10000.0   65.0           2  \n",
       "5   630000.0  2100000.0    10000.0   65.0           2  \n",
       "6   630000.0  2100000.0    10000.0   65.0           0  \n",
       "7   630000.0  2100000.0    10000.0   65.0           2  \n",
       "8   630000.0  2100000.0    10000.0   65.0           2  \n",
       "9   630000.0  2100000.0    10000.0   65.0           0  "
      ]
     },
     "execution_count": 39,
     "metadata": {},
     "output_type": "execute_result"
    }
   ],
   "source": [
    "merged_df_ce.head(10)"
   ]
  },
  {
   "cell_type": "code",
   "execution_count": 40,
   "id": "e0ca9333",
   "metadata": {},
   "outputs": [
    {
     "data": {
      "text/plain": [
       "0    75681\n",
       "2    59420\n",
       "1    57505\n",
       "Name: Class Flag, dtype: int64"
      ]
     },
     "execution_count": 40,
     "metadata": {},
     "output_type": "execute_result"
    }
   ],
   "source": [
    "merged_df_ce['Class Flag'].value_counts()"
   ]
  },
  {
   "cell_type": "markdown",
   "id": "22c9ffef",
   "metadata": {},
   "source": [
    "most people are payed less than the average salary in the same YOE and company."
   ]
  },
  {
   "cell_type": "markdown",
   "id": "7b608785",
   "metadata": {},
   "source": [
    "### Company & Job Position level"
   ]
  },
  {
   "cell_type": "code",
   "execution_count": 41,
   "id": "56b46a78",
   "metadata": {},
   "outputs": [],
   "source": [
    "grouped_cj = df.groupby(['company_hash', 'job_position'])"
   ]
  },
  {
   "cell_type": "code",
   "execution_count": 42,
   "id": "6a3635f7",
   "metadata": {},
   "outputs": [],
   "source": [
    "ctc_summary_cj = grouped_cj['ctc'].describe()[['mean', '50%', 'max', 'min', 'count']]\n",
    "ctc_summary_cj = ctc_summary_cj.rename(columns={'50%': 'median'})"
   ]
  },
  {
   "cell_type": "code",
   "execution_count": 43,
   "id": "776e7852",
   "metadata": {},
   "outputs": [],
   "source": [
    "merged_df_cj = df.merge(ctc_summary_cj, on=['company_hash', 'job_position'])"
   ]
  },
  {
   "cell_type": "code",
   "execution_count": 44,
   "id": "a8fcb1d6",
   "metadata": {},
   "outputs": [],
   "source": [
    "avg_ctc = merged_df_cj.groupby(['company_hash', 'job_position'])['mean'].transform('mean')\n",
    "merged_df_cj['Designation Flag'] = merged_df_cj.apply(lambda row: 0 if row['ctc'] < avg_ctc[row.name] else (1 if row['ctc'] == avg_ctc[row.name] else 2), axis=1)"
   ]
  },
  {
   "cell_type": "code",
   "execution_count": 45,
   "id": "594b9ab6",
   "metadata": {},
   "outputs": [
    {
     "data": {
      "text/html": [
       "<div>\n",
       "<style scoped>\n",
       "    .dataframe tbody tr th:only-of-type {\n",
       "        vertical-align: middle;\n",
       "    }\n",
       "\n",
       "    .dataframe tbody tr th {\n",
       "        vertical-align: top;\n",
       "    }\n",
       "\n",
       "    .dataframe thead th {\n",
       "        text-align: right;\n",
       "    }\n",
       "</style>\n",
       "<table border=\"1\" class=\"dataframe\">\n",
       "  <thead>\n",
       "    <tr style=\"text-align: right;\">\n",
       "      <th></th>\n",
       "      <th>company_hash</th>\n",
       "      <th>email_hash</th>\n",
       "      <th>orgyear</th>\n",
       "      <th>ctc</th>\n",
       "      <th>job_position</th>\n",
       "      <th>ctc_updated_year</th>\n",
       "      <th>Year of Experience</th>\n",
       "      <th>mean</th>\n",
       "      <th>median</th>\n",
       "      <th>max</th>\n",
       "      <th>min</th>\n",
       "      <th>count</th>\n",
       "      <th>Designation Flag</th>\n",
       "    </tr>\n",
       "  </thead>\n",
       "  <tbody>\n",
       "    <tr>\n",
       "      <th>0</th>\n",
       "      <td>921</td>\n",
       "      <td>6de0a4417d18ab14334c3f43397fc13b30c35149d70c05...</td>\n",
       "      <td>2016.0</td>\n",
       "      <td>1100000</td>\n",
       "      <td>437</td>\n",
       "      <td>2020.0</td>\n",
       "      <td>7.0</td>\n",
       "      <td>1.085000e+06</td>\n",
       "      <td>1085000.0</td>\n",
       "      <td>1100000.0</td>\n",
       "      <td>1070000.0</td>\n",
       "      <td>2.0</td>\n",
       "      <td>2</td>\n",
       "    </tr>\n",
       "    <tr>\n",
       "      <th>1</th>\n",
       "      <td>921</td>\n",
       "      <td>696f674fbc0d337b20152f91c43082bafaa243da70932c...</td>\n",
       "      <td>2014.0</td>\n",
       "      <td>1070000</td>\n",
       "      <td>437</td>\n",
       "      <td>2018.0</td>\n",
       "      <td>9.0</td>\n",
       "      <td>1.085000e+06</td>\n",
       "      <td>1085000.0</td>\n",
       "      <td>1100000.0</td>\n",
       "      <td>1070000.0</td>\n",
       "      <td>2.0</td>\n",
       "      <td>0</td>\n",
       "    </tr>\n",
       "    <tr>\n",
       "      <th>2</th>\n",
       "      <td>18817</td>\n",
       "      <td>b0aaf1ac138b53cb6e039ba2c3d6604a250d02d5145c10...</td>\n",
       "      <td>2018.0</td>\n",
       "      <td>449999</td>\n",
       "      <td>276</td>\n",
       "      <td>2019.0</td>\n",
       "      <td>5.0</td>\n",
       "      <td>9.511363e+05</td>\n",
       "      <td>800000.0</td>\n",
       "      <td>2000000.0</td>\n",
       "      <td>300000.0</td>\n",
       "      <td>22.0</td>\n",
       "      <td>0</td>\n",
       "    </tr>\n",
       "    <tr>\n",
       "      <th>3</th>\n",
       "      <td>18817</td>\n",
       "      <td>f4fa64972185ac2b73e99c0cc10d1bf50d6dbfbc9a2cba...</td>\n",
       "      <td>2018.0</td>\n",
       "      <td>620000</td>\n",
       "      <td>276</td>\n",
       "      <td>2020.0</td>\n",
       "      <td>5.0</td>\n",
       "      <td>9.511363e+05</td>\n",
       "      <td>800000.0</td>\n",
       "      <td>2000000.0</td>\n",
       "      <td>300000.0</td>\n",
       "      <td>22.0</td>\n",
       "      <td>0</td>\n",
       "    </tr>\n",
       "    <tr>\n",
       "      <th>4</th>\n",
       "      <td>18817</td>\n",
       "      <td>51c50fc9fc8c8025ba1e81fd9e7eec377cbda8ba6d9be9...</td>\n",
       "      <td>2019.0</td>\n",
       "      <td>300000</td>\n",
       "      <td>276</td>\n",
       "      <td>2019.0</td>\n",
       "      <td>4.0</td>\n",
       "      <td>9.511363e+05</td>\n",
       "      <td>800000.0</td>\n",
       "      <td>2000000.0</td>\n",
       "      <td>300000.0</td>\n",
       "      <td>22.0</td>\n",
       "      <td>0</td>\n",
       "    </tr>\n",
       "    <tr>\n",
       "      <th>5</th>\n",
       "      <td>18817</td>\n",
       "      <td>a667070253210eb966557cc00fd4c6fa0b92dcdf8316b0...</td>\n",
       "      <td>2009.0</td>\n",
       "      <td>1000000</td>\n",
       "      <td>276</td>\n",
       "      <td>2021.0</td>\n",
       "      <td>14.0</td>\n",
       "      <td>9.511363e+05</td>\n",
       "      <td>800000.0</td>\n",
       "      <td>2000000.0</td>\n",
       "      <td>300000.0</td>\n",
       "      <td>22.0</td>\n",
       "      <td>2</td>\n",
       "    </tr>\n",
       "    <tr>\n",
       "      <th>6</th>\n",
       "      <td>18817</td>\n",
       "      <td>be3bcde831f8816f2bad9781f1282f09908f803c2fafb3...</td>\n",
       "      <td>2018.0</td>\n",
       "      <td>950000</td>\n",
       "      <td>276</td>\n",
       "      <td>2021.0</td>\n",
       "      <td>5.0</td>\n",
       "      <td>9.511363e+05</td>\n",
       "      <td>800000.0</td>\n",
       "      <td>2000000.0</td>\n",
       "      <td>300000.0</td>\n",
       "      <td>22.0</td>\n",
       "      <td>0</td>\n",
       "    </tr>\n",
       "    <tr>\n",
       "      <th>7</th>\n",
       "      <td>18817</td>\n",
       "      <td>1fe7524aa9dc2ae9ee2eb02f36078a9c644f987576eb59...</td>\n",
       "      <td>2016.0</td>\n",
       "      <td>600000</td>\n",
       "      <td>276</td>\n",
       "      <td>2020.0</td>\n",
       "      <td>7.0</td>\n",
       "      <td>9.511363e+05</td>\n",
       "      <td>800000.0</td>\n",
       "      <td>2000000.0</td>\n",
       "      <td>300000.0</td>\n",
       "      <td>22.0</td>\n",
       "      <td>0</td>\n",
       "    </tr>\n",
       "    <tr>\n",
       "      <th>8</th>\n",
       "      <td>18817</td>\n",
       "      <td>ddf45c7b7bd4c461890121c416b2fdff9ba34fbaea2ad4...</td>\n",
       "      <td>2018.0</td>\n",
       "      <td>750000</td>\n",
       "      <td>276</td>\n",
       "      <td>2020.0</td>\n",
       "      <td>5.0</td>\n",
       "      <td>9.511363e+05</td>\n",
       "      <td>800000.0</td>\n",
       "      <td>2000000.0</td>\n",
       "      <td>300000.0</td>\n",
       "      <td>22.0</td>\n",
       "      <td>0</td>\n",
       "    </tr>\n",
       "    <tr>\n",
       "      <th>9</th>\n",
       "      <td>18817</td>\n",
       "      <td>73e4f61b4b885458561a27990fe136e4bd9cec2425c5d9...</td>\n",
       "      <td>2019.0</td>\n",
       "      <td>470000</td>\n",
       "      <td>276</td>\n",
       "      <td>2020.0</td>\n",
       "      <td>4.0</td>\n",
       "      <td>9.511363e+05</td>\n",
       "      <td>800000.0</td>\n",
       "      <td>2000000.0</td>\n",
       "      <td>300000.0</td>\n",
       "      <td>22.0</td>\n",
       "      <td>0</td>\n",
       "    </tr>\n",
       "  </tbody>\n",
       "</table>\n",
       "</div>"
      ],
      "text/plain": [
       "  company_hash                                         email_hash  orgyear  \\\n",
       "0          921  6de0a4417d18ab14334c3f43397fc13b30c35149d70c05...   2016.0   \n",
       "1          921  696f674fbc0d337b20152f91c43082bafaa243da70932c...   2014.0   \n",
       "2        18817  b0aaf1ac138b53cb6e039ba2c3d6604a250d02d5145c10...   2018.0   \n",
       "3        18817  f4fa64972185ac2b73e99c0cc10d1bf50d6dbfbc9a2cba...   2018.0   \n",
       "4        18817  51c50fc9fc8c8025ba1e81fd9e7eec377cbda8ba6d9be9...   2019.0   \n",
       "5        18817  a667070253210eb966557cc00fd4c6fa0b92dcdf8316b0...   2009.0   \n",
       "6        18817  be3bcde831f8816f2bad9781f1282f09908f803c2fafb3...   2018.0   \n",
       "7        18817  1fe7524aa9dc2ae9ee2eb02f36078a9c644f987576eb59...   2016.0   \n",
       "8        18817  ddf45c7b7bd4c461890121c416b2fdff9ba34fbaea2ad4...   2018.0   \n",
       "9        18817  73e4f61b4b885458561a27990fe136e4bd9cec2425c5d9...   2019.0   \n",
       "\n",
       "       ctc job_position  ctc_updated_year  Year of Experience          mean  \\\n",
       "0  1100000          437            2020.0                 7.0  1.085000e+06   \n",
       "1  1070000          437            2018.0                 9.0  1.085000e+06   \n",
       "2   449999          276            2019.0                 5.0  9.511363e+05   \n",
       "3   620000          276            2020.0                 5.0  9.511363e+05   \n",
       "4   300000          276            2019.0                 4.0  9.511363e+05   \n",
       "5  1000000          276            2021.0                14.0  9.511363e+05   \n",
       "6   950000          276            2021.0                 5.0  9.511363e+05   \n",
       "7   600000          276            2020.0                 7.0  9.511363e+05   \n",
       "8   750000          276            2020.0                 5.0  9.511363e+05   \n",
       "9   470000          276            2020.0                 4.0  9.511363e+05   \n",
       "\n",
       "      median        max        min  count  Designation Flag  \n",
       "0  1085000.0  1100000.0  1070000.0    2.0                 2  \n",
       "1  1085000.0  1100000.0  1070000.0    2.0                 0  \n",
       "2   800000.0  2000000.0   300000.0   22.0                 0  \n",
       "3   800000.0  2000000.0   300000.0   22.0                 0  \n",
       "4   800000.0  2000000.0   300000.0   22.0                 0  \n",
       "5   800000.0  2000000.0   300000.0   22.0                 2  \n",
       "6   800000.0  2000000.0   300000.0   22.0                 0  \n",
       "7   800000.0  2000000.0   300000.0   22.0                 0  \n",
       "8   800000.0  2000000.0   300000.0   22.0                 0  \n",
       "9   800000.0  2000000.0   300000.0   22.0                 0  "
      ]
     },
     "execution_count": 45,
     "metadata": {},
     "output_type": "execute_result"
    }
   ],
   "source": [
    "merged_df_cj.head(10)"
   ]
  },
  {
   "cell_type": "code",
   "execution_count": 46,
   "id": "5f993b54",
   "metadata": {},
   "outputs": [
    {
     "data": {
      "text/plain": [
       "0    78940\n",
       "2    60170\n",
       "1    53574\n",
       "Name: Designation Flag, dtype: int64"
      ]
     },
     "execution_count": 46,
     "metadata": {},
     "output_type": "execute_result"
    }
   ],
   "source": [
    "merged_df_cj['Designation Flag'].value_counts()"
   ]
  },
  {
   "cell_type": "markdown",
   "id": "0a16c77d",
   "metadata": {},
   "source": [
    "most people are payed less than the average salary in the same position and company."
   ]
  },
  {
   "cell_type": "markdown",
   "id": "37e9fb73",
   "metadata": {},
   "source": [
    "### Company level"
   ]
  },
  {
   "cell_type": "code",
   "execution_count": 47,
   "id": "9dd024e8",
   "metadata": {},
   "outputs": [],
   "source": [
    "grouped_c = df.groupby(['company_hash'])"
   ]
  },
  {
   "cell_type": "code",
   "execution_count": 48,
   "id": "8ab81bdd",
   "metadata": {},
   "outputs": [],
   "source": [
    "ctc_summary_c = grouped_c['ctc'].describe()[['mean', '50%', 'max', 'min', 'count']]\n",
    "ctc_summary_c = ctc_summary_c.rename(columns={'50%': 'median'})"
   ]
  },
  {
   "cell_type": "code",
   "execution_count": 49,
   "id": "44ca5fa0",
   "metadata": {},
   "outputs": [],
   "source": [
    "merged_df_c = df.merge(ctc_summary_c, on=['company_hash'])"
   ]
  },
  {
   "cell_type": "code",
   "execution_count": 50,
   "id": "2bcbf4a1",
   "metadata": {},
   "outputs": [],
   "source": [
    "avg_ctc = merged_df_c.groupby(['company_hash'])['mean'].transform('mean')\n",
    "merged_df_c['Tier Flag'] = merged_df_c.apply(lambda row: 0 if row['ctc'] < avg_ctc[row.name] else (1 if row['ctc'] == avg_ctc[row.name] else 2), axis=1)"
   ]
  },
  {
   "cell_type": "code",
   "execution_count": 51,
   "id": "48a5351e",
   "metadata": {},
   "outputs": [
    {
     "data": {
      "text/html": [
       "<div>\n",
       "<style scoped>\n",
       "    .dataframe tbody tr th:only-of-type {\n",
       "        vertical-align: middle;\n",
       "    }\n",
       "\n",
       "    .dataframe tbody tr th {\n",
       "        vertical-align: top;\n",
       "    }\n",
       "\n",
       "    .dataframe thead th {\n",
       "        text-align: right;\n",
       "    }\n",
       "</style>\n",
       "<table border=\"1\" class=\"dataframe\">\n",
       "  <thead>\n",
       "    <tr style=\"text-align: right;\">\n",
       "      <th></th>\n",
       "      <th>company_hash</th>\n",
       "      <th>email_hash</th>\n",
       "      <th>orgyear</th>\n",
       "      <th>ctc</th>\n",
       "      <th>job_position</th>\n",
       "      <th>ctc_updated_year</th>\n",
       "      <th>Year of Experience</th>\n",
       "      <th>mean</th>\n",
       "      <th>median</th>\n",
       "      <th>max</th>\n",
       "      <th>min</th>\n",
       "      <th>count</th>\n",
       "      <th>Tier Flag</th>\n",
       "    </tr>\n",
       "  </thead>\n",
       "  <tbody>\n",
       "    <tr>\n",
       "      <th>0</th>\n",
       "      <td>921</td>\n",
       "      <td>6de0a4417d18ab14334c3f43397fc13b30c35149d70c05...</td>\n",
       "      <td>2016.0</td>\n",
       "      <td>1100000</td>\n",
       "      <td>437</td>\n",
       "      <td>2020.0</td>\n",
       "      <td>7.0</td>\n",
       "      <td>1.115667e+06</td>\n",
       "      <td>1070000.0</td>\n",
       "      <td>1771000.0</td>\n",
       "      <td>500000.0</td>\n",
       "      <td>9.0</td>\n",
       "      <td>0</td>\n",
       "    </tr>\n",
       "    <tr>\n",
       "      <th>1</th>\n",
       "      <td>921</td>\n",
       "      <td>a309a8c6610af7e9f0a88cfb67f9a0095b0dde63475475...</td>\n",
       "      <td>2019.0</td>\n",
       "      <td>500000</td>\n",
       "      <td>136</td>\n",
       "      <td>2020.0</td>\n",
       "      <td>4.0</td>\n",
       "      <td>1.115667e+06</td>\n",
       "      <td>1070000.0</td>\n",
       "      <td>1771000.0</td>\n",
       "      <td>500000.0</td>\n",
       "      <td>9.0</td>\n",
       "      <td>0</td>\n",
       "    </tr>\n",
       "    <tr>\n",
       "      <th>2</th>\n",
       "      <td>921</td>\n",
       "      <td>ffc974693a2bfd0326c707d8460d6783861a9497e538e2...</td>\n",
       "      <td>2017.0</td>\n",
       "      <td>1700000</td>\n",
       "      <td>198</td>\n",
       "      <td>2020.0</td>\n",
       "      <td>6.0</td>\n",
       "      <td>1.115667e+06</td>\n",
       "      <td>1070000.0</td>\n",
       "      <td>1771000.0</td>\n",
       "      <td>500000.0</td>\n",
       "      <td>9.0</td>\n",
       "      <td>2</td>\n",
       "    </tr>\n",
       "    <tr>\n",
       "      <th>3</th>\n",
       "      <td>921</td>\n",
       "      <td>b4dcd1e7ac426014a32ae303e4b527325d482e4d2c4bef...</td>\n",
       "      <td>2014.0</td>\n",
       "      <td>1000000</td>\n",
       "      <td>136</td>\n",
       "      <td>2018.0</td>\n",
       "      <td>9.0</td>\n",
       "      <td>1.115667e+06</td>\n",
       "      <td>1070000.0</td>\n",
       "      <td>1771000.0</td>\n",
       "      <td>500000.0</td>\n",
       "      <td>9.0</td>\n",
       "      <td>0</td>\n",
       "    </tr>\n",
       "    <tr>\n",
       "      <th>4</th>\n",
       "      <td>921</td>\n",
       "      <td>0d2f25432591093f5907a8681d600f869bbe7c2ae39cd7...</td>\n",
       "      <td>2017.0</td>\n",
       "      <td>600000</td>\n",
       "      <td>32</td>\n",
       "      <td>2021.0</td>\n",
       "      <td>6.0</td>\n",
       "      <td>1.115667e+06</td>\n",
       "      <td>1070000.0</td>\n",
       "      <td>1771000.0</td>\n",
       "      <td>500000.0</td>\n",
       "      <td>9.0</td>\n",
       "      <td>0</td>\n",
       "    </tr>\n",
       "    <tr>\n",
       "      <th>5</th>\n",
       "      <td>921</td>\n",
       "      <td>696f674fbc0d337b20152f91c43082bafaa243da70932c...</td>\n",
       "      <td>2014.0</td>\n",
       "      <td>1070000</td>\n",
       "      <td>437</td>\n",
       "      <td>2018.0</td>\n",
       "      <td>9.0</td>\n",
       "      <td>1.115667e+06</td>\n",
       "      <td>1070000.0</td>\n",
       "      <td>1771000.0</td>\n",
       "      <td>500000.0</td>\n",
       "      <td>9.0</td>\n",
       "      <td>0</td>\n",
       "    </tr>\n",
       "    <tr>\n",
       "      <th>6</th>\n",
       "      <td>921</td>\n",
       "      <td>dc8d39f3e9dd9f7576194e1a13c233bfe704bf9a72df99...</td>\n",
       "      <td>2014.0</td>\n",
       "      <td>800000</td>\n",
       "      <td>498</td>\n",
       "      <td>2019.0</td>\n",
       "      <td>9.0</td>\n",
       "      <td>1.115667e+06</td>\n",
       "      <td>1070000.0</td>\n",
       "      <td>1771000.0</td>\n",
       "      <td>500000.0</td>\n",
       "      <td>9.0</td>\n",
       "      <td>0</td>\n",
       "    </tr>\n",
       "    <tr>\n",
       "      <th>7</th>\n",
       "      <td>921</td>\n",
       "      <td>ab2b1b176cd5831ff3002043c82b075812a12ba212fa18...</td>\n",
       "      <td>2011.0</td>\n",
       "      <td>1771000</td>\n",
       "      <td>276</td>\n",
       "      <td>2019.0</td>\n",
       "      <td>12.0</td>\n",
       "      <td>1.115667e+06</td>\n",
       "      <td>1070000.0</td>\n",
       "      <td>1771000.0</td>\n",
       "      <td>500000.0</td>\n",
       "      <td>9.0</td>\n",
       "      <td>2</td>\n",
       "    </tr>\n",
       "    <tr>\n",
       "      <th>8</th>\n",
       "      <td>921</td>\n",
       "      <td>0abaddb8cb2925b7bfcda79f3d533ad76c6c7ed01dadd4...</td>\n",
       "      <td>2012.0</td>\n",
       "      <td>1500000</td>\n",
       "      <td>581</td>\n",
       "      <td>2018.0</td>\n",
       "      <td>11.0</td>\n",
       "      <td>1.115667e+06</td>\n",
       "      <td>1070000.0</td>\n",
       "      <td>1771000.0</td>\n",
       "      <td>500000.0</td>\n",
       "      <td>9.0</td>\n",
       "      <td>2</td>\n",
       "    </tr>\n",
       "    <tr>\n",
       "      <th>9</th>\n",
       "      <td>18817</td>\n",
       "      <td>b0aaf1ac138b53cb6e039ba2c3d6604a250d02d5145c10...</td>\n",
       "      <td>2018.0</td>\n",
       "      <td>449999</td>\n",
       "      <td>276</td>\n",
       "      <td>2019.0</td>\n",
       "      <td>5.0</td>\n",
       "      <td>1.071436e+06</td>\n",
       "      <td>850000.0</td>\n",
       "      <td>3400000.0</td>\n",
       "      <td>10000.0</td>\n",
       "      <td>410.0</td>\n",
       "      <td>0</td>\n",
       "    </tr>\n",
       "  </tbody>\n",
       "</table>\n",
       "</div>"
      ],
      "text/plain": [
       "  company_hash                                         email_hash  orgyear  \\\n",
       "0          921  6de0a4417d18ab14334c3f43397fc13b30c35149d70c05...   2016.0   \n",
       "1          921  a309a8c6610af7e9f0a88cfb67f9a0095b0dde63475475...   2019.0   \n",
       "2          921  ffc974693a2bfd0326c707d8460d6783861a9497e538e2...   2017.0   \n",
       "3          921  b4dcd1e7ac426014a32ae303e4b527325d482e4d2c4bef...   2014.0   \n",
       "4          921  0d2f25432591093f5907a8681d600f869bbe7c2ae39cd7...   2017.0   \n",
       "5          921  696f674fbc0d337b20152f91c43082bafaa243da70932c...   2014.0   \n",
       "6          921  dc8d39f3e9dd9f7576194e1a13c233bfe704bf9a72df99...   2014.0   \n",
       "7          921  ab2b1b176cd5831ff3002043c82b075812a12ba212fa18...   2011.0   \n",
       "8          921  0abaddb8cb2925b7bfcda79f3d533ad76c6c7ed01dadd4...   2012.0   \n",
       "9        18817  b0aaf1ac138b53cb6e039ba2c3d6604a250d02d5145c10...   2018.0   \n",
       "\n",
       "       ctc job_position  ctc_updated_year  Year of Experience          mean  \\\n",
       "0  1100000          437            2020.0                 7.0  1.115667e+06   \n",
       "1   500000          136            2020.0                 4.0  1.115667e+06   \n",
       "2  1700000          198            2020.0                 6.0  1.115667e+06   \n",
       "3  1000000          136            2018.0                 9.0  1.115667e+06   \n",
       "4   600000           32            2021.0                 6.0  1.115667e+06   \n",
       "5  1070000          437            2018.0                 9.0  1.115667e+06   \n",
       "6   800000          498            2019.0                 9.0  1.115667e+06   \n",
       "7  1771000          276            2019.0                12.0  1.115667e+06   \n",
       "8  1500000          581            2018.0                11.0  1.115667e+06   \n",
       "9   449999          276            2019.0                 5.0  1.071436e+06   \n",
       "\n",
       "      median        max       min  count  Tier Flag  \n",
       "0  1070000.0  1771000.0  500000.0    9.0          0  \n",
       "1  1070000.0  1771000.0  500000.0    9.0          0  \n",
       "2  1070000.0  1771000.0  500000.0    9.0          2  \n",
       "3  1070000.0  1771000.0  500000.0    9.0          0  \n",
       "4  1070000.0  1771000.0  500000.0    9.0          0  \n",
       "5  1070000.0  1771000.0  500000.0    9.0          0  \n",
       "6  1070000.0  1771000.0  500000.0    9.0          0  \n",
       "7  1070000.0  1771000.0  500000.0    9.0          2  \n",
       "8  1070000.0  1771000.0  500000.0    9.0          2  \n",
       "9   850000.0  3400000.0   10000.0  410.0          0  "
      ]
     },
     "execution_count": 51,
     "metadata": {},
     "output_type": "execute_result"
    }
   ],
   "source": [
    "merged_df_c.head(10)"
   ]
  },
  {
   "cell_type": "code",
   "execution_count": 52,
   "id": "c350810b",
   "metadata": {},
   "outputs": [
    {
     "data": {
      "text/plain": [
       "0    92730\n",
       "2    68152\n",
       "1    31802\n",
       "Name: Tier Flag, dtype: int64"
      ]
     },
     "execution_count": 52,
     "metadata": {},
     "output_type": "execute_result"
    }
   ],
   "source": [
    "merged_df_c['Tier Flag'].value_counts()"
   ]
  },
  {
   "cell_type": "markdown",
   "id": "1357f40d",
   "metadata": {},
   "source": [
    "Post people in the scaler are from tire-3 companies looking upskill themself and go for better paying jobs"
   ]
  },
  {
   "cell_type": "code",
   "execution_count": 53,
   "id": "dfbc6525",
   "metadata": {
    "scrolled": false
   },
   "outputs": [],
   "source": [
    "# merged_df = merged_df.reset_index()\n",
    "# merged_df['Class'] = merged_df.groupby(['company_hash', 'job_position'])['flag_designation'].transform(lambda x: pd.factorize(x)[0]+1)"
   ]
  },
  {
   "cell_type": "code",
   "execution_count": 54,
   "id": "c0ff1134",
   "metadata": {},
   "outputs": [],
   "source": [
    "# merged_df.head()"
   ]
  },
  {
   "cell_type": "code",
   "execution_count": 55,
   "id": "6f52ec6b",
   "metadata": {},
   "outputs": [],
   "source": [
    "# merged_df['Tier'] = merged_df.groupby(['company_hash'])['flag_designation'].apply(lambda x: pd.factorize(x)[0]+1)"
   ]
  },
  {
   "cell_type": "code",
   "execution_count": 56,
   "id": "afe73193",
   "metadata": {},
   "outputs": [],
   "source": [
    "# merged_df.head(10)"
   ]
  },
  {
   "cell_type": "markdown",
   "id": "18b9e626",
   "metadata": {},
   "source": [
    "### Insights of manual clustering"
   ]
  },
  {
   "cell_type": "code",
   "execution_count": 57,
   "id": "22bbfb26",
   "metadata": {},
   "outputs": [
    {
     "data": {
      "text/html": [
       "<div>\n",
       "<style scoped>\n",
       "    .dataframe tbody tr th:only-of-type {\n",
       "        vertical-align: middle;\n",
       "    }\n",
       "\n",
       "    .dataframe tbody tr th {\n",
       "        vertical-align: top;\n",
       "    }\n",
       "\n",
       "    .dataframe thead th {\n",
       "        text-align: right;\n",
       "    }\n",
       "</style>\n",
       "<table border=\"1\" class=\"dataframe\">\n",
       "  <thead>\n",
       "    <tr style=\"text-align: right;\">\n",
       "      <th></th>\n",
       "      <th>company_hash</th>\n",
       "      <th>email_hash</th>\n",
       "      <th>orgyear</th>\n",
       "      <th>ctc</th>\n",
       "      <th>job_position</th>\n",
       "      <th>ctc_updated_year</th>\n",
       "      <th>Year of Experience</th>\n",
       "      <th>mean</th>\n",
       "      <th>median</th>\n",
       "      <th>max</th>\n",
       "      <th>min</th>\n",
       "      <th>count</th>\n",
       "      <th>Tier Flag</th>\n",
       "    </tr>\n",
       "  </thead>\n",
       "  <tbody>\n",
       "    <tr>\n",
       "      <th>29246</th>\n",
       "      <td>25302</td>\n",
       "      <td>bd2b42f4aa306efb27219d09aa429f6f3166613c36c317...</td>\n",
       "      <td>2014.0</td>\n",
       "      <td>3454500</td>\n",
       "      <td>276</td>\n",
       "      <td>2015.0</td>\n",
       "      <td>9.0</td>\n",
       "      <td>1.535936e+06</td>\n",
       "      <td>1550000.0</td>\n",
       "      <td>3454500.0</td>\n",
       "      <td>2000.0</td>\n",
       "      <td>2672.0</td>\n",
       "      <td>2</td>\n",
       "    </tr>\n",
       "    <tr>\n",
       "      <th>28185</th>\n",
       "      <td>25302</td>\n",
       "      <td>bd2b42f4aa306efb27219d09aa429f6f3166613c36c317...</td>\n",
       "      <td>2014.0</td>\n",
       "      <td>3454500</td>\n",
       "      <td>136</td>\n",
       "      <td>2015.0</td>\n",
       "      <td>9.0</td>\n",
       "      <td>1.535936e+06</td>\n",
       "      <td>1550000.0</td>\n",
       "      <td>3454500.0</td>\n",
       "      <td>2000.0</td>\n",
       "      <td>2672.0</td>\n",
       "      <td>2</td>\n",
       "    </tr>\n",
       "    <tr>\n",
       "      <th>106809</th>\n",
       "      <td>8589</td>\n",
       "      <td>75fd2b1188101968e9484c4847f639d5cef5209dd2c043...</td>\n",
       "      <td>2017.0</td>\n",
       "      <td>3450000</td>\n",
       "      <td>437</td>\n",
       "      <td>2020.0</td>\n",
       "      <td>6.0</td>\n",
       "      <td>1.776009e+06</td>\n",
       "      <td>1800000.0</td>\n",
       "      <td>3450000.0</td>\n",
       "      <td>16000.0</td>\n",
       "      <td>568.0</td>\n",
       "      <td>2</td>\n",
       "    </tr>\n",
       "    <tr>\n",
       "      <th>8428</th>\n",
       "      <td>8688</td>\n",
       "      <td>eef4792868a808353396cffb03423aa9104b129c38d041...</td>\n",
       "      <td>2011.0</td>\n",
       "      <td>3450000</td>\n",
       "      <td>239</td>\n",
       "      <td>2019.0</td>\n",
       "      <td>12.0</td>\n",
       "      <td>1.561500e+06</td>\n",
       "      <td>1500000.0</td>\n",
       "      <td>3450000.0</td>\n",
       "      <td>10000.0</td>\n",
       "      <td>118.0</td>\n",
       "      <td>2</td>\n",
       "    </tr>\n",
       "    <tr>\n",
       "      <th>14850</th>\n",
       "      <td>7905</td>\n",
       "      <td>7b6995298e4316fdec117300a3b5c4ee41afa066e6f684...</td>\n",
       "      <td>2017.0</td>\n",
       "      <td>3450000</td>\n",
       "      <td>276</td>\n",
       "      <td>2020.0</td>\n",
       "      <td>6.0</td>\n",
       "      <td>1.931054e+06</td>\n",
       "      <td>2350000.0</td>\n",
       "      <td>3450000.0</td>\n",
       "      <td>3900.0</td>\n",
       "      <td>101.0</td>\n",
       "      <td>2</td>\n",
       "    </tr>\n",
       "    <tr>\n",
       "      <th>8246</th>\n",
       "      <td>22546</td>\n",
       "      <td>b33d333397fc063e1998525575001af3333791e6dc74f8...</td>\n",
       "      <td>2013.0</td>\n",
       "      <td>3450000</td>\n",
       "      <td>239</td>\n",
       "      <td>2019.0</td>\n",
       "      <td>10.0</td>\n",
       "      <td>1.073176e+06</td>\n",
       "      <td>900000.0</td>\n",
       "      <td>3450000.0</td>\n",
       "      <td>7500.0</td>\n",
       "      <td>350.0</td>\n",
       "      <td>2</td>\n",
       "    </tr>\n",
       "    <tr>\n",
       "      <th>27119</th>\n",
       "      <td>25302</td>\n",
       "      <td>bc2eeaf42c9a587210d05557903b2d15e50914662d5e18...</td>\n",
       "      <td>2015.0</td>\n",
       "      <td>3450000</td>\n",
       "      <td>551</td>\n",
       "      <td>2015.0</td>\n",
       "      <td>8.0</td>\n",
       "      <td>1.535936e+06</td>\n",
       "      <td>1550000.0</td>\n",
       "      <td>3454500.0</td>\n",
       "      <td>2000.0</td>\n",
       "      <td>2672.0</td>\n",
       "      <td>2</td>\n",
       "    </tr>\n",
       "    <tr>\n",
       "      <th>92053</th>\n",
       "      <td>3624</td>\n",
       "      <td>963791cbc30c869e8914c149005c941a5ee8015c5b0a43...</td>\n",
       "      <td>2013.0</td>\n",
       "      <td>3450000</td>\n",
       "      <td>136</td>\n",
       "      <td>2019.0</td>\n",
       "      <td>10.0</td>\n",
       "      <td>1.996276e+06</td>\n",
       "      <td>2200000.0</td>\n",
       "      <td>3450000.0</td>\n",
       "      <td>5000.0</td>\n",
       "      <td>1524.0</td>\n",
       "      <td>2</td>\n",
       "    </tr>\n",
       "    <tr>\n",
       "      <th>133069</th>\n",
       "      <td>33269</td>\n",
       "      <td>0ca1da3746df85369fff483d0ed3ddabbe34133aa7ff94...</td>\n",
       "      <td>2017.0</td>\n",
       "      <td>3450000</td>\n",
       "      <td>136</td>\n",
       "      <td>2020.0</td>\n",
       "      <td>6.0</td>\n",
       "      <td>2.033200e+06</td>\n",
       "      <td>2000000.0</td>\n",
       "      <td>3450000.0</td>\n",
       "      <td>100000.0</td>\n",
       "      <td>70.0</td>\n",
       "      <td>2</td>\n",
       "    </tr>\n",
       "    <tr>\n",
       "      <th>48423</th>\n",
       "      <td>2452</td>\n",
       "      <td>6a78c17f9caffac82f220864136182acd248ba4a824004...</td>\n",
       "      <td>2011.0</td>\n",
       "      <td>3450000</td>\n",
       "      <td>276</td>\n",
       "      <td>2020.0</td>\n",
       "      <td>12.0</td>\n",
       "      <td>1.951069e+06</td>\n",
       "      <td>2000000.0</td>\n",
       "      <td>3450000.0</td>\n",
       "      <td>170000.0</td>\n",
       "      <td>58.0</td>\n",
       "      <td>2</td>\n",
       "    </tr>\n",
       "    <tr>\n",
       "      <th>48425</th>\n",
       "      <td>2452</td>\n",
       "      <td>6a78c17f9caffac82f220864136182acd248ba4a824004...</td>\n",
       "      <td>2011.0</td>\n",
       "      <td>3450000</td>\n",
       "      <td>958</td>\n",
       "      <td>2020.0</td>\n",
       "      <td>12.0</td>\n",
       "      <td>1.951069e+06</td>\n",
       "      <td>2000000.0</td>\n",
       "      <td>3450000.0</td>\n",
       "      <td>170000.0</td>\n",
       "      <td>58.0</td>\n",
       "      <td>2</td>\n",
       "    </tr>\n",
       "  </tbody>\n",
       "</table>\n",
       "</div>"
      ],
      "text/plain": [
       "       company_hash                                         email_hash  \\\n",
       "29246         25302  bd2b42f4aa306efb27219d09aa429f6f3166613c36c317...   \n",
       "28185         25302  bd2b42f4aa306efb27219d09aa429f6f3166613c36c317...   \n",
       "106809         8589  75fd2b1188101968e9484c4847f639d5cef5209dd2c043...   \n",
       "8428           8688  eef4792868a808353396cffb03423aa9104b129c38d041...   \n",
       "14850          7905  7b6995298e4316fdec117300a3b5c4ee41afa066e6f684...   \n",
       "8246          22546  b33d333397fc063e1998525575001af3333791e6dc74f8...   \n",
       "27119         25302  bc2eeaf42c9a587210d05557903b2d15e50914662d5e18...   \n",
       "92053          3624  963791cbc30c869e8914c149005c941a5ee8015c5b0a43...   \n",
       "133069        33269  0ca1da3746df85369fff483d0ed3ddabbe34133aa7ff94...   \n",
       "48423          2452  6a78c17f9caffac82f220864136182acd248ba4a824004...   \n",
       "48425          2452  6a78c17f9caffac82f220864136182acd248ba4a824004...   \n",
       "\n",
       "        orgyear      ctc job_position  ctc_updated_year  Year of Experience  \\\n",
       "29246    2014.0  3454500          276            2015.0                 9.0   \n",
       "28185    2014.0  3454500          136            2015.0                 9.0   \n",
       "106809   2017.0  3450000          437            2020.0                 6.0   \n",
       "8428     2011.0  3450000          239            2019.0                12.0   \n",
       "14850    2017.0  3450000          276            2020.0                 6.0   \n",
       "8246     2013.0  3450000          239            2019.0                10.0   \n",
       "27119    2015.0  3450000          551            2015.0                 8.0   \n",
       "92053    2013.0  3450000          136            2019.0                10.0   \n",
       "133069   2017.0  3450000          136            2020.0                 6.0   \n",
       "48423    2011.0  3450000          276            2020.0                12.0   \n",
       "48425    2011.0  3450000          958            2020.0                12.0   \n",
       "\n",
       "                mean     median        max       min   count  Tier Flag  \n",
       "29246   1.535936e+06  1550000.0  3454500.0    2000.0  2672.0          2  \n",
       "28185   1.535936e+06  1550000.0  3454500.0    2000.0  2672.0          2  \n",
       "106809  1.776009e+06  1800000.0  3450000.0   16000.0   568.0          2  \n",
       "8428    1.561500e+06  1500000.0  3450000.0   10000.0   118.0          2  \n",
       "14850   1.931054e+06  2350000.0  3450000.0    3900.0   101.0          2  \n",
       "8246    1.073176e+06   900000.0  3450000.0    7500.0   350.0          2  \n",
       "27119   1.535936e+06  1550000.0  3454500.0    2000.0  2672.0          2  \n",
       "92053   1.996276e+06  2200000.0  3450000.0    5000.0  1524.0          2  \n",
       "133069  2.033200e+06  2000000.0  3450000.0  100000.0    70.0          2  \n",
       "48423   1.951069e+06  2000000.0  3450000.0  170000.0    58.0          2  \n",
       "48425   1.951069e+06  2000000.0  3450000.0  170000.0    58.0          2  "
      ]
     },
     "execution_count": 57,
     "metadata": {},
     "output_type": "execute_result"
    }
   ],
   "source": [
    "# Top 10 employees (earning more than most of the employees in the company) - Tier 1\n",
    "merged_df_c[merged_df_c['Tier Flag']==2].sort_values(\"ctc\",ascending=False)[:11]"
   ]
  },
  {
   "cell_type": "code",
   "execution_count": 58,
   "id": "f76683eb",
   "metadata": {},
   "outputs": [
    {
     "data": {
      "text/html": [
       "<div>\n",
       "<style scoped>\n",
       "    .dataframe tbody tr th:only-of-type {\n",
       "        vertical-align: middle;\n",
       "    }\n",
       "\n",
       "    .dataframe tbody tr th {\n",
       "        vertical-align: top;\n",
       "    }\n",
       "\n",
       "    .dataframe thead th {\n",
       "        text-align: right;\n",
       "    }\n",
       "</style>\n",
       "<table border=\"1\" class=\"dataframe\">\n",
       "  <thead>\n",
       "    <tr style=\"text-align: right;\">\n",
       "      <th></th>\n",
       "      <th>company_hash</th>\n",
       "      <th>email_hash</th>\n",
       "      <th>orgyear</th>\n",
       "      <th>ctc</th>\n",
       "      <th>job_position</th>\n",
       "      <th>ctc_updated_year</th>\n",
       "      <th>Year of Experience</th>\n",
       "      <th>mean</th>\n",
       "      <th>median</th>\n",
       "      <th>max</th>\n",
       "      <th>min</th>\n",
       "      <th>count</th>\n",
       "      <th>Designation Flag</th>\n",
       "    </tr>\n",
       "  </thead>\n",
       "  <tbody>\n",
       "  </tbody>\n",
       "</table>\n",
       "</div>"
      ],
      "text/plain": [
       "Empty DataFrame\n",
       "Columns: [company_hash, email_hash, orgyear, ctc, job_position, ctc_updated_year, Year of Experience, mean, median, max, min, count, Designation Flag]\n",
       "Index: []"
      ]
     },
     "execution_count": 58,
     "metadata": {},
     "output_type": "execute_result"
    }
   ],
   "source": [
    "# Top 10 employees of data science in Amazon / TCS etc earning more than their peers - Class 1\n",
    "merged_df_cj[(merged_df_cj['Designation Flag']==2) & ((merged_df_cj['job_position']==1017) | (merged_df_cj['job_position']==140))].sort_values(\"ctc\",ascending=False)[:11]\n",
    "\n"
   ]
  },
  {
   "cell_type": "code",
   "execution_count": 59,
   "id": "5d495f29",
   "metadata": {},
   "outputs": [
    {
     "data": {
      "text/html": [
       "<div>\n",
       "<style scoped>\n",
       "    .dataframe tbody tr th:only-of-type {\n",
       "        vertical-align: middle;\n",
       "    }\n",
       "\n",
       "    .dataframe tbody tr th {\n",
       "        vertical-align: top;\n",
       "    }\n",
       "\n",
       "    .dataframe thead th {\n",
       "        text-align: right;\n",
       "    }\n",
       "</style>\n",
       "<table border=\"1\" class=\"dataframe\">\n",
       "  <thead>\n",
       "    <tr style=\"text-align: right;\">\n",
       "      <th></th>\n",
       "      <th>company_hash</th>\n",
       "      <th>email_hash</th>\n",
       "      <th>orgyear</th>\n",
       "      <th>ctc</th>\n",
       "      <th>job_position</th>\n",
       "      <th>ctc_updated_year</th>\n",
       "      <th>Year of Experience</th>\n",
       "      <th>mean</th>\n",
       "      <th>median</th>\n",
       "      <th>max</th>\n",
       "      <th>min</th>\n",
       "      <th>count</th>\n",
       "      <th>Designation Flag</th>\n",
       "    </tr>\n",
       "  </thead>\n",
       "  <tbody>\n",
       "  </tbody>\n",
       "</table>\n",
       "</div>"
      ],
      "text/plain": [
       "Empty DataFrame\n",
       "Columns: [company_hash, email_hash, orgyear, ctc, job_position, ctc_updated_year, Year of Experience, mean, median, max, min, count, Designation Flag]\n",
       "Index: []"
      ]
     },
     "execution_count": 59,
     "metadata": {},
     "output_type": "execute_result"
    }
   ],
   "source": [
    "# Bottom 10 employees of data science in Amazon / TCS etc earning less than their peers - Class 3\n",
    "\n",
    "merged_df_cj[(merged_df_cj['Designation Flag']==0) & ((merged_df_cj['job_position']==1017) | (merged_df_cj['job_position']==140))].sort_values(\"ctc\",ascending=True)[:11]\n",
    "\n",
    "\n"
   ]
  },
  {
   "cell_type": "code",
   "execution_count": 60,
   "id": "ec28d202",
   "metadata": {},
   "outputs": [
    {
     "data": {
      "text/html": [
       "<div>\n",
       "<style scoped>\n",
       "    .dataframe tbody tr th:only-of-type {\n",
       "        vertical-align: middle;\n",
       "    }\n",
       "\n",
       "    .dataframe tbody tr th {\n",
       "        vertical-align: top;\n",
       "    }\n",
       "\n",
       "    .dataframe thead th {\n",
       "        text-align: right;\n",
       "    }\n",
       "</style>\n",
       "<table border=\"1\" class=\"dataframe\">\n",
       "  <thead>\n",
       "    <tr style=\"text-align: right;\">\n",
       "      <th></th>\n",
       "      <th>company_hash</th>\n",
       "      <th>email_hash</th>\n",
       "      <th>orgyear</th>\n",
       "      <th>ctc</th>\n",
       "      <th>job_position</th>\n",
       "      <th>ctc_updated_year</th>\n",
       "      <th>Year of Experience</th>\n",
       "      <th>mean</th>\n",
       "      <th>median</th>\n",
       "      <th>max</th>\n",
       "      <th>min</th>\n",
       "      <th>count</th>\n",
       "      <th>Tier Flag</th>\n",
       "    </tr>\n",
       "  </thead>\n",
       "  <tbody>\n",
       "    <tr>\n",
       "      <th>97894</th>\n",
       "      <td>32572</td>\n",
       "      <td>3505b02549ebe2c95840ac6f0a35561a3b4cbe4b79cdb1...</td>\n",
       "      <td>2014.0</td>\n",
       "      <td>2</td>\n",
       "      <td>136</td>\n",
       "      <td>2019.0</td>\n",
       "      <td>9.0</td>\n",
       "      <td>1.073435e+06</td>\n",
       "      <td>900000.0</td>\n",
       "      <td>3250000.0</td>\n",
       "      <td>2.0</td>\n",
       "      <td>69.0</td>\n",
       "      <td>0</td>\n",
       "    </tr>\n",
       "    <tr>\n",
       "      <th>97888</th>\n",
       "      <td>32572</td>\n",
       "      <td>f2b58aeed3c074652de2cfd3c0717a5d21d6fbcf342a78...</td>\n",
       "      <td>2013.0</td>\n",
       "      <td>6</td>\n",
       "      <td>958</td>\n",
       "      <td>2018.0</td>\n",
       "      <td>10.0</td>\n",
       "      <td>1.073435e+06</td>\n",
       "      <td>900000.0</td>\n",
       "      <td>3250000.0</td>\n",
       "      <td>2.0</td>\n",
       "      <td>69.0</td>\n",
       "      <td>0</td>\n",
       "    </tr>\n",
       "    <tr>\n",
       "      <th>97886</th>\n",
       "      <td>32572</td>\n",
       "      <td>23ad96d6b6f1ecf554a52f6e9b61677c7d73d8a409a143...</td>\n",
       "      <td>2013.0</td>\n",
       "      <td>14</td>\n",
       "      <td>958</td>\n",
       "      <td>2018.0</td>\n",
       "      <td>10.0</td>\n",
       "      <td>1.073435e+06</td>\n",
       "      <td>900000.0</td>\n",
       "      <td>3250000.0</td>\n",
       "      <td>2.0</td>\n",
       "      <td>69.0</td>\n",
       "      <td>0</td>\n",
       "    </tr>\n",
       "    <tr>\n",
       "      <th>189649</th>\n",
       "      <td>31288</td>\n",
       "      <td>b8a0bb340583936b5a7923947e9aec21add5ebc50cd60b...</td>\n",
       "      <td>2016.0</td>\n",
       "      <td>15</td>\n",
       "      <td>958</td>\n",
       "      <td>2018.0</td>\n",
       "      <td>7.0</td>\n",
       "      <td>1.550000e+01</td>\n",
       "      <td>15.5</td>\n",
       "      <td>16.0</td>\n",
       "      <td>15.0</td>\n",
       "      <td>2.0</td>\n",
       "      <td>0</td>\n",
       "    </tr>\n",
       "    <tr>\n",
       "      <th>157919</th>\n",
       "      <td>8244</td>\n",
       "      <td>f7e5e788676100d7c4146740ada9e2f8974defc01f571d...</td>\n",
       "      <td>2022.0</td>\n",
       "      <td>200</td>\n",
       "      <td>958</td>\n",
       "      <td>2022.0</td>\n",
       "      <td>1.0</td>\n",
       "      <td>3.140000e+04</td>\n",
       "      <td>4000.0</td>\n",
       "      <td>90000.0</td>\n",
       "      <td>200.0</td>\n",
       "      <td>3.0</td>\n",
       "      <td>0</td>\n",
       "    </tr>\n",
       "    <tr>\n",
       "      <th>44008</th>\n",
       "      <td>12918</td>\n",
       "      <td>80ba0259f9f59034c4927cf3bd38dc9ce2eb60ff18135b...</td>\n",
       "      <td>2012.0</td>\n",
       "      <td>600</td>\n",
       "      <td>136</td>\n",
       "      <td>2017.0</td>\n",
       "      <td>11.0</td>\n",
       "      <td>5.741367e+05</td>\n",
       "      <td>450000.0</td>\n",
       "      <td>3400000.0</td>\n",
       "      <td>600.0</td>\n",
       "      <td>8221.0</td>\n",
       "      <td>0</td>\n",
       "    </tr>\n",
       "    <tr>\n",
       "      <th>66974</th>\n",
       "      <td>7149</td>\n",
       "      <td>b995d7a2ae5c6f8497762ce04dc5c04ad6ec734d70802a...</td>\n",
       "      <td>2018.0</td>\n",
       "      <td>600</td>\n",
       "      <td>276</td>\n",
       "      <td>2021.0</td>\n",
       "      <td>5.0</td>\n",
       "      <td>1.419244e+06</td>\n",
       "      <td>1250000.0</td>\n",
       "      <td>3400000.0</td>\n",
       "      <td>600.0</td>\n",
       "      <td>449.0</td>\n",
       "      <td>0</td>\n",
       "    </tr>\n",
       "    <tr>\n",
       "      <th>103476</th>\n",
       "      <td>35338</td>\n",
       "      <td>9af3dca6c9d705d8d42585ccfce2627f00e1629130d14e...</td>\n",
       "      <td>2023.0</td>\n",
       "      <td>600</td>\n",
       "      <td>958</td>\n",
       "      <td>2023.0</td>\n",
       "      <td>0.0</td>\n",
       "      <td>1.056870e+06</td>\n",
       "      <td>900000.0</td>\n",
       "      <td>3400000.0</td>\n",
       "      <td>600.0</td>\n",
       "      <td>1616.0</td>\n",
       "      <td>0</td>\n",
       "    </tr>\n",
       "    <tr>\n",
       "      <th>59500</th>\n",
       "      <td>21220</td>\n",
       "      <td>1694233be08738b7b50bdb7649b792f0ab8a514c01bec9...</td>\n",
       "      <td>2016.0</td>\n",
       "      <td>1000</td>\n",
       "      <td>958</td>\n",
       "      <td>2019.0</td>\n",
       "      <td>7.0</td>\n",
       "      <td>7.292778e+05</td>\n",
       "      <td>680000.0</td>\n",
       "      <td>2000000.0</td>\n",
       "      <td>1000.0</td>\n",
       "      <td>54.0</td>\n",
       "      <td>0</td>\n",
       "    </tr>\n",
       "    <tr>\n",
       "      <th>83123</th>\n",
       "      <td>31011</td>\n",
       "      <td>4eea97c023bd58395edce18538831df9a735180f88f79d...</td>\n",
       "      <td>2020.0</td>\n",
       "      <td>1000</td>\n",
       "      <td>958</td>\n",
       "      <td>2020.0</td>\n",
       "      <td>3.0</td>\n",
       "      <td>9.843383e+05</td>\n",
       "      <td>800000.0</td>\n",
       "      <td>3400000.0</td>\n",
       "      <td>1000.0</td>\n",
       "      <td>480.0</td>\n",
       "      <td>0</td>\n",
       "    </tr>\n",
       "    <tr>\n",
       "      <th>170096</th>\n",
       "      <td>34479</td>\n",
       "      <td>d926b36fd7c88094c8837323e378671f8354d3fe0dc488...</td>\n",
       "      <td>2011.0</td>\n",
       "      <td>1000</td>\n",
       "      <td>136</td>\n",
       "      <td>2019.0</td>\n",
       "      <td>12.0</td>\n",
       "      <td>5.550000e+04</td>\n",
       "      <td>55500.0</td>\n",
       "      <td>110000.0</td>\n",
       "      <td>1000.0</td>\n",
       "      <td>2.0</td>\n",
       "      <td>0</td>\n",
       "    </tr>\n",
       "  </tbody>\n",
       "</table>\n",
       "</div>"
      ],
      "text/plain": [
       "       company_hash                                         email_hash  \\\n",
       "97894         32572  3505b02549ebe2c95840ac6f0a35561a3b4cbe4b79cdb1...   \n",
       "97888         32572  f2b58aeed3c074652de2cfd3c0717a5d21d6fbcf342a78...   \n",
       "97886         32572  23ad96d6b6f1ecf554a52f6e9b61677c7d73d8a409a143...   \n",
       "189649        31288  b8a0bb340583936b5a7923947e9aec21add5ebc50cd60b...   \n",
       "157919         8244  f7e5e788676100d7c4146740ada9e2f8974defc01f571d...   \n",
       "44008         12918  80ba0259f9f59034c4927cf3bd38dc9ce2eb60ff18135b...   \n",
       "66974          7149  b995d7a2ae5c6f8497762ce04dc5c04ad6ec734d70802a...   \n",
       "103476        35338  9af3dca6c9d705d8d42585ccfce2627f00e1629130d14e...   \n",
       "59500         21220  1694233be08738b7b50bdb7649b792f0ab8a514c01bec9...   \n",
       "83123         31011  4eea97c023bd58395edce18538831df9a735180f88f79d...   \n",
       "170096        34479  d926b36fd7c88094c8837323e378671f8354d3fe0dc488...   \n",
       "\n",
       "        orgyear   ctc job_position  ctc_updated_year  Year of Experience  \\\n",
       "97894    2014.0     2          136            2019.0                 9.0   \n",
       "97888    2013.0     6          958            2018.0                10.0   \n",
       "97886    2013.0    14          958            2018.0                10.0   \n",
       "189649   2016.0    15          958            2018.0                 7.0   \n",
       "157919   2022.0   200          958            2022.0                 1.0   \n",
       "44008    2012.0   600          136            2017.0                11.0   \n",
       "66974    2018.0   600          276            2021.0                 5.0   \n",
       "103476   2023.0   600          958            2023.0                 0.0   \n",
       "59500    2016.0  1000          958            2019.0                 7.0   \n",
       "83123    2020.0  1000          958            2020.0                 3.0   \n",
       "170096   2011.0  1000          136            2019.0                12.0   \n",
       "\n",
       "                mean     median        max     min   count  Tier Flag  \n",
       "97894   1.073435e+06   900000.0  3250000.0     2.0    69.0          0  \n",
       "97888   1.073435e+06   900000.0  3250000.0     2.0    69.0          0  \n",
       "97886   1.073435e+06   900000.0  3250000.0     2.0    69.0          0  \n",
       "189649  1.550000e+01       15.5       16.0    15.0     2.0          0  \n",
       "157919  3.140000e+04     4000.0    90000.0   200.0     3.0          0  \n",
       "44008   5.741367e+05   450000.0  3400000.0   600.0  8221.0          0  \n",
       "66974   1.419244e+06  1250000.0  3400000.0   600.0   449.0          0  \n",
       "103476  1.056870e+06   900000.0  3400000.0   600.0  1616.0          0  \n",
       "59500   7.292778e+05   680000.0  2000000.0  1000.0    54.0          0  \n",
       "83123   9.843383e+05   800000.0  3400000.0  1000.0   480.0          0  \n",
       "170096  5.550000e+04    55500.0   110000.0  1000.0     2.0          0  "
      ]
     },
     "execution_count": 60,
     "metadata": {},
     "output_type": "execute_result"
    }
   ],
   "source": [
    "# Bottom 10 employees (earning less than most of the employees in the company)- Tier 3\n",
    "\n",
    "merged_df_c[merged_df_c['Tier Flag']==0].sort_values(\"ctc\",ascending=True)[:11]\n"
   ]
  },
  {
   "cell_type": "code",
   "execution_count": 61,
   "id": "6096a1ed",
   "metadata": {},
   "outputs": [
    {
     "data": {
      "text/html": [
       "<div>\n",
       "<style scoped>\n",
       "    .dataframe tbody tr th:only-of-type {\n",
       "        vertical-align: middle;\n",
       "    }\n",
       "\n",
       "    .dataframe tbody tr th {\n",
       "        vertical-align: top;\n",
       "    }\n",
       "\n",
       "    .dataframe thead th {\n",
       "        text-align: right;\n",
       "    }\n",
       "</style>\n",
       "<table border=\"1\" class=\"dataframe\">\n",
       "  <thead>\n",
       "    <tr style=\"text-align: right;\">\n",
       "      <th></th>\n",
       "      <th>company_hash</th>\n",
       "      <th>email_hash</th>\n",
       "      <th>orgyear</th>\n",
       "      <th>ctc</th>\n",
       "      <th>job_position</th>\n",
       "      <th>ctc_updated_year</th>\n",
       "      <th>Year of Experience</th>\n",
       "      <th>mean</th>\n",
       "      <th>median</th>\n",
       "      <th>max</th>\n",
       "      <th>min</th>\n",
       "      <th>count</th>\n",
       "      <th>Class Flag</th>\n",
       "    </tr>\n",
       "  </thead>\n",
       "  <tbody>\n",
       "  </tbody>\n",
       "</table>\n",
       "</div>"
      ],
      "text/plain": [
       "Empty DataFrame\n",
       "Columns: [company_hash, email_hash, orgyear, ctc, job_position, ctc_updated_year, Year of Experience, mean, median, max, min, count, Class Flag]\n",
       "Index: []"
      ]
     },
     "execution_count": 61,
     "metadata": {},
     "output_type": "execute_result"
    }
   ],
   "source": [
    "# Top 10 employees in Amazon- X department - having 5/6/7 years of experience earning more than their peers - Tier X\n",
    "\n",
    "merged_df_ce[(merged_df_ce['Class Flag']==2) & (merged_df_ce['company_hash']==18817)]\n",
    "\n"
   ]
  },
  {
   "cell_type": "code",
   "execution_count": 62,
   "id": "c4c7a2f9",
   "metadata": {},
   "outputs": [
    {
     "data": {
      "text/html": [
       "<div>\n",
       "<style scoped>\n",
       "    .dataframe tbody tr th:only-of-type {\n",
       "        vertical-align: middle;\n",
       "    }\n",
       "\n",
       "    .dataframe tbody tr th {\n",
       "        vertical-align: top;\n",
       "    }\n",
       "\n",
       "    .dataframe thead th {\n",
       "        text-align: right;\n",
       "    }\n",
       "</style>\n",
       "<table border=\"1\" class=\"dataframe\">\n",
       "  <thead>\n",
       "    <tr style=\"text-align: right;\">\n",
       "      <th></th>\n",
       "      <th>ctc</th>\n",
       "    </tr>\n",
       "    <tr>\n",
       "      <th>company_hash</th>\n",
       "      <th></th>\n",
       "    </tr>\n",
       "  </thead>\n",
       "  <tbody>\n",
       "    <tr>\n",
       "      <th>5882</th>\n",
       "      <td>3450000.0</td>\n",
       "    </tr>\n",
       "    <tr>\n",
       "      <th>31932</th>\n",
       "      <td>3450000.0</td>\n",
       "    </tr>\n",
       "    <tr>\n",
       "      <th>20536</th>\n",
       "      <td>3450000.0</td>\n",
       "    </tr>\n",
       "    <tr>\n",
       "      <th>8224</th>\n",
       "      <td>3450000.0</td>\n",
       "    </tr>\n",
       "    <tr>\n",
       "      <th>8466</th>\n",
       "      <td>3450000.0</td>\n",
       "    </tr>\n",
       "    <tr>\n",
       "      <th>12892</th>\n",
       "      <td>3440000.0</td>\n",
       "    </tr>\n",
       "    <tr>\n",
       "      <th>6823</th>\n",
       "      <td>3440000.0</td>\n",
       "    </tr>\n",
       "    <tr>\n",
       "      <th>8590</th>\n",
       "      <td>3440000.0</td>\n",
       "    </tr>\n",
       "    <tr>\n",
       "      <th>11032</th>\n",
       "      <td>3429999.0</td>\n",
       "    </tr>\n",
       "    <tr>\n",
       "      <th>2712</th>\n",
       "      <td>3429999.0</td>\n",
       "    </tr>\n",
       "    <tr>\n",
       "      <th>10954</th>\n",
       "      <td>3420000.0</td>\n",
       "    </tr>\n",
       "  </tbody>\n",
       "</table>\n",
       "</div>"
      ],
      "text/plain": [
       "                    ctc\n",
       "company_hash           \n",
       "5882          3450000.0\n",
       "31932         3450000.0\n",
       "20536         3450000.0\n",
       "8224          3450000.0\n",
       "8466          3450000.0\n",
       "12892         3440000.0\n",
       "6823          3440000.0\n",
       "8590          3440000.0\n",
       "11032         3429999.0\n",
       "2712          3429999.0\n",
       "10954         3420000.0"
      ]
     },
     "execution_count": 62,
     "metadata": {},
     "output_type": "execute_result"
    }
   ],
   "source": [
    "# Top 10 companies (based on their CTC)\n",
    "merged_df_c.groupby('company_hash').agg({'ctc': 'mean'}).sort_values(\"ctc\",ascending=False)[:11]\n",
    "\n"
   ]
  },
  {
   "cell_type": "code",
   "execution_count": 63,
   "id": "8f8a650a",
   "metadata": {
    "scrolled": true
   },
   "outputs": [],
   "source": [
    "# Top 2 positions in every company (based on their CTC)\n",
    "\n",
    "company_positions_ctc_sorted=merged_df_c.groupby(['company_hash','job_position']).agg({'ctc': 'mean'}).sort_values(['company_hash',\"ctc\"],ascending=[True,False])\n",
    "company_positions_ctc_sorted=company_positions_ctc_sorted.reset_index()\n",
    "top_positions = pd.DataFrame()\n",
    "for company in company_positions_ctc_sorted['company_hash'].unique():\n",
    "    top_positions = top_positions.append(company_positions_ctc_sorted[company_positions_ctc_sorted['company_hash'] == company].head(2))\n"
   ]
  },
  {
   "cell_type": "code",
   "execution_count": 64,
   "id": "bc97972e",
   "metadata": {},
   "outputs": [
    {
     "data": {
      "text/html": [
       "<div>\n",
       "<style scoped>\n",
       "    .dataframe tbody tr th:only-of-type {\n",
       "        vertical-align: middle;\n",
       "    }\n",
       "\n",
       "    .dataframe tbody tr th {\n",
       "        vertical-align: top;\n",
       "    }\n",
       "\n",
       "    .dataframe thead th {\n",
       "        text-align: right;\n",
       "    }\n",
       "</style>\n",
       "<table border=\"1\" class=\"dataframe\">\n",
       "  <thead>\n",
       "    <tr style=\"text-align: right;\">\n",
       "      <th></th>\n",
       "      <th>company_hash</th>\n",
       "      <th>job_position</th>\n",
       "      <th>ctc</th>\n",
       "    </tr>\n",
       "  </thead>\n",
       "  <tbody>\n",
       "    <tr>\n",
       "      <th>0</th>\n",
       "      <td>0</td>\n",
       "      <td>437</td>\n",
       "      <td>100000.0</td>\n",
       "    </tr>\n",
       "    <tr>\n",
       "      <th>1</th>\n",
       "      <td>0</td>\n",
       "      <td>958</td>\n",
       "      <td>100000.0</td>\n",
       "    </tr>\n",
       "    <tr>\n",
       "      <th>2</th>\n",
       "      <td>1</td>\n",
       "      <td>437</td>\n",
       "      <td>300000.0</td>\n",
       "    </tr>\n",
       "    <tr>\n",
       "      <th>3</th>\n",
       "      <td>10</td>\n",
       "      <td>271</td>\n",
       "      <td>1650000.0</td>\n",
       "    </tr>\n",
       "    <tr>\n",
       "      <th>4</th>\n",
       "      <td>100</td>\n",
       "      <td>469</td>\n",
       "      <td>2500000.0</td>\n",
       "    </tr>\n",
       "    <tr>\n",
       "      <th>...</th>\n",
       "      <td>...</td>\n",
       "      <td>...</td>\n",
       "      <td>...</td>\n",
       "    </tr>\n",
       "    <tr>\n",
       "      <th>67913</th>\n",
       "      <td>9996</td>\n",
       "      <td>464</td>\n",
       "      <td>1300000.0</td>\n",
       "    </tr>\n",
       "    <tr>\n",
       "      <th>67914</th>\n",
       "      <td>9996</td>\n",
       "      <td>498</td>\n",
       "      <td>660000.0</td>\n",
       "    </tr>\n",
       "    <tr>\n",
       "      <th>67916</th>\n",
       "      <td>9997</td>\n",
       "      <td>958</td>\n",
       "      <td>220000.0</td>\n",
       "    </tr>\n",
       "    <tr>\n",
       "      <th>67917</th>\n",
       "      <td>9998</td>\n",
       "      <td>198</td>\n",
       "      <td>900000.0</td>\n",
       "    </tr>\n",
       "    <tr>\n",
       "      <th>67918</th>\n",
       "      <td>9999</td>\n",
       "      <td>437</td>\n",
       "      <td>2650000.0</td>\n",
       "    </tr>\n",
       "  </tbody>\n",
       "</table>\n",
       "<p>48119 rows × 3 columns</p>\n",
       "</div>"
      ],
      "text/plain": [
       "      company_hash job_position        ctc\n",
       "0                0          437   100000.0\n",
       "1                0          958   100000.0\n",
       "2                1          437   300000.0\n",
       "3               10          271  1650000.0\n",
       "4              100          469  2500000.0\n",
       "...            ...          ...        ...\n",
       "67913         9996          464  1300000.0\n",
       "67914         9996          498   660000.0\n",
       "67916         9997          958   220000.0\n",
       "67917         9998          198   900000.0\n",
       "67918         9999          437  2650000.0\n",
       "\n",
       "[48119 rows x 3 columns]"
      ]
     },
     "execution_count": 64,
     "metadata": {},
     "output_type": "execute_result"
    }
   ],
   "source": [
    "top_positions"
   ]
  },
  {
   "cell_type": "code",
   "execution_count": 65,
   "id": "6fbe8d2e",
   "metadata": {},
   "outputs": [
    {
     "data": {
      "text/html": [
       "<div>\n",
       "<style scoped>\n",
       "    .dataframe tbody tr th:only-of-type {\n",
       "        vertical-align: middle;\n",
       "    }\n",
       "\n",
       "    .dataframe tbody tr th {\n",
       "        vertical-align: top;\n",
       "    }\n",
       "\n",
       "    .dataframe thead th {\n",
       "        text-align: right;\n",
       "    }\n",
       "</style>\n",
       "<table border=\"1\" class=\"dataframe\">\n",
       "  <thead>\n",
       "    <tr style=\"text-align: right;\">\n",
       "      <th></th>\n",
       "      <th>company_hash</th>\n",
       "      <th>job_position</th>\n",
       "      <th>ctc</th>\n",
       "    </tr>\n",
       "  </thead>\n",
       "  <tbody>\n",
       "    <tr>\n",
       "      <th>0</th>\n",
       "      <td>0</td>\n",
       "      <td>437</td>\n",
       "      <td>100000.0</td>\n",
       "    </tr>\n",
       "    <tr>\n",
       "      <th>1</th>\n",
       "      <td>0</td>\n",
       "      <td>958</td>\n",
       "      <td>100000.0</td>\n",
       "    </tr>\n",
       "    <tr>\n",
       "      <th>2</th>\n",
       "      <td>1</td>\n",
       "      <td>437</td>\n",
       "      <td>300000.0</td>\n",
       "    </tr>\n",
       "    <tr>\n",
       "      <th>3</th>\n",
       "      <td>10</td>\n",
       "      <td>271</td>\n",
       "      <td>1650000.0</td>\n",
       "    </tr>\n",
       "    <tr>\n",
       "      <th>4</th>\n",
       "      <td>100</td>\n",
       "      <td>469</td>\n",
       "      <td>2500000.0</td>\n",
       "    </tr>\n",
       "    <tr>\n",
       "      <th>...</th>\n",
       "      <td>...</td>\n",
       "      <td>...</td>\n",
       "      <td>...</td>\n",
       "    </tr>\n",
       "    <tr>\n",
       "      <th>67914</th>\n",
       "      <td>9996</td>\n",
       "      <td>498</td>\n",
       "      <td>660000.0</td>\n",
       "    </tr>\n",
       "    <tr>\n",
       "      <th>67915</th>\n",
       "      <td>9996</td>\n",
       "      <td>136</td>\n",
       "      <td>220000.0</td>\n",
       "    </tr>\n",
       "    <tr>\n",
       "      <th>67916</th>\n",
       "      <td>9997</td>\n",
       "      <td>958</td>\n",
       "      <td>220000.0</td>\n",
       "    </tr>\n",
       "    <tr>\n",
       "      <th>67917</th>\n",
       "      <td>9998</td>\n",
       "      <td>198</td>\n",
       "      <td>900000.0</td>\n",
       "    </tr>\n",
       "    <tr>\n",
       "      <th>67918</th>\n",
       "      <td>9999</td>\n",
       "      <td>437</td>\n",
       "      <td>2650000.0</td>\n",
       "    </tr>\n",
       "  </tbody>\n",
       "</table>\n",
       "<p>67919 rows × 3 columns</p>\n",
       "</div>"
      ],
      "text/plain": [
       "      company_hash job_position        ctc\n",
       "0                0          437   100000.0\n",
       "1                0          958   100000.0\n",
       "2                1          437   300000.0\n",
       "3               10          271  1650000.0\n",
       "4              100          469  2500000.0\n",
       "...            ...          ...        ...\n",
       "67914         9996          498   660000.0\n",
       "67915         9996          136   220000.0\n",
       "67916         9997          958   220000.0\n",
       "67917         9998          198   900000.0\n",
       "67918         9999          437  2650000.0\n",
       "\n",
       "[67919 rows x 3 columns]"
      ]
     },
     "execution_count": 65,
     "metadata": {},
     "output_type": "execute_result"
    }
   ],
   "source": [
    "company_positions_ctc_sorted"
   ]
  },
  {
   "cell_type": "markdown",
   "id": "f03e3579",
   "metadata": {},
   "source": [
    "## Unsupervised Learning - Clustering"
   ]
  },
  {
   "cell_type": "code",
   "execution_count": 66,
   "id": "fbe31365",
   "metadata": {},
   "outputs": [],
   "source": [
    "X=df"
   ]
  },
  {
   "cell_type": "code",
   "execution_count": 67,
   "id": "bf9e033d",
   "metadata": {},
   "outputs": [
    {
     "data": {
      "text/html": [
       "<div>\n",
       "<style scoped>\n",
       "    .dataframe tbody tr th:only-of-type {\n",
       "        vertical-align: middle;\n",
       "    }\n",
       "\n",
       "    .dataframe tbody tr th {\n",
       "        vertical-align: top;\n",
       "    }\n",
       "\n",
       "    .dataframe thead th {\n",
       "        text-align: right;\n",
       "    }\n",
       "</style>\n",
       "<table border=\"1\" class=\"dataframe\">\n",
       "  <thead>\n",
       "    <tr style=\"text-align: right;\">\n",
       "      <th></th>\n",
       "      <th>company_hash</th>\n",
       "      <th>email_hash</th>\n",
       "      <th>orgyear</th>\n",
       "      <th>ctc</th>\n",
       "      <th>job_position</th>\n",
       "      <th>ctc_updated_year</th>\n",
       "      <th>Year of Experience</th>\n",
       "    </tr>\n",
       "  </thead>\n",
       "  <tbody>\n",
       "    <tr>\n",
       "      <th>0</th>\n",
       "      <td>921</td>\n",
       "      <td>6de0a4417d18ab14334c3f43397fc13b30c35149d70c05...</td>\n",
       "      <td>2016.0</td>\n",
       "      <td>1100000</td>\n",
       "      <td>437</td>\n",
       "      <td>2020.0</td>\n",
       "      <td>7.0</td>\n",
       "    </tr>\n",
       "    <tr>\n",
       "      <th>1</th>\n",
       "      <td>18817</td>\n",
       "      <td>b0aaf1ac138b53cb6e039ba2c3d6604a250d02d5145c10...</td>\n",
       "      <td>2018.0</td>\n",
       "      <td>449999</td>\n",
       "      <td>276</td>\n",
       "      <td>2019.0</td>\n",
       "      <td>5.0</td>\n",
       "    </tr>\n",
       "    <tr>\n",
       "      <th>2</th>\n",
       "      <td>14789</td>\n",
       "      <td>4860c670bcd48fb96c02a4b0ae3608ae6fdd98176112e9...</td>\n",
       "      <td>2015.0</td>\n",
       "      <td>2000000</td>\n",
       "      <td>136</td>\n",
       "      <td>2020.0</td>\n",
       "      <td>8.0</td>\n",
       "    </tr>\n",
       "    <tr>\n",
       "      <th>3</th>\n",
       "      <td>11533</td>\n",
       "      <td>effdede7a2e7c2af664c8a31d9346385016128d66bbc58...</td>\n",
       "      <td>2017.0</td>\n",
       "      <td>700000</td>\n",
       "      <td>136</td>\n",
       "      <td>2019.0</td>\n",
       "      <td>6.0</td>\n",
       "    </tr>\n",
       "    <tr>\n",
       "      <th>4</th>\n",
       "      <td>19288</td>\n",
       "      <td>6ff54e709262f55cb999a1c1db8436cb2055d8f79ab520...</td>\n",
       "      <td>2017.0</td>\n",
       "      <td>1400000</td>\n",
       "      <td>276</td>\n",
       "      <td>2019.0</td>\n",
       "      <td>6.0</td>\n",
       "    </tr>\n",
       "  </tbody>\n",
       "</table>\n",
       "</div>"
      ],
      "text/plain": [
       "  company_hash                                         email_hash  orgyear  \\\n",
       "0          921  6de0a4417d18ab14334c3f43397fc13b30c35149d70c05...   2016.0   \n",
       "1        18817  b0aaf1ac138b53cb6e039ba2c3d6604a250d02d5145c10...   2018.0   \n",
       "2        14789  4860c670bcd48fb96c02a4b0ae3608ae6fdd98176112e9...   2015.0   \n",
       "3        11533  effdede7a2e7c2af664c8a31d9346385016128d66bbc58...   2017.0   \n",
       "4        19288  6ff54e709262f55cb999a1c1db8436cb2055d8f79ab520...   2017.0   \n",
       "\n",
       "       ctc job_position  ctc_updated_year  Year of Experience  \n",
       "0  1100000          437            2020.0                 7.0  \n",
       "1   449999          276            2019.0                 5.0  \n",
       "2  2000000          136            2020.0                 8.0  \n",
       "3   700000          136            2019.0                 6.0  \n",
       "4  1400000          276            2019.0                 6.0  "
      ]
     },
     "execution_count": 67,
     "metadata": {},
     "output_type": "execute_result"
    }
   ],
   "source": [
    "X.head()"
   ]
  },
  {
   "cell_type": "code",
   "execution_count": 68,
   "id": "aeb53651",
   "metadata": {},
   "outputs": [],
   "source": [
    "X.drop(columns=['orgyear','email_hash'],inplace=True,axis=1)"
   ]
  },
  {
   "cell_type": "markdown",
   "id": "75123015",
   "metadata": {},
   "source": [
    "### Normalizing data using standard scaler"
   ]
  },
  {
   "cell_type": "code",
   "execution_count": 69,
   "id": "f369f63f",
   "metadata": {
    "scrolled": true
   },
   "outputs": [],
   "source": [
    "from sklearn.preprocessing import StandardScaler\n",
    "\n",
    "scaler = StandardScaler()\n",
    "scaler.fit(df)\n",
    "X = scaler.transform(df)"
   ]
  },
  {
   "cell_type": "code",
   "execution_count": 70,
   "id": "525e628b",
   "metadata": {},
   "outputs": [],
   "source": [
    "scaled_df = pd.DataFrame(X, columns=df.columns, index=df.index)"
   ]
  },
  {
   "cell_type": "code",
   "execution_count": 71,
   "id": "06af2849",
   "metadata": {},
   "outputs": [
    {
     "data": {
      "text/html": [
       "<div>\n",
       "<style scoped>\n",
       "    .dataframe tbody tr th:only-of-type {\n",
       "        vertical-align: middle;\n",
       "    }\n",
       "\n",
       "    .dataframe tbody tr th {\n",
       "        vertical-align: top;\n",
       "    }\n",
       "\n",
       "    .dataframe thead th {\n",
       "        text-align: right;\n",
       "    }\n",
       "</style>\n",
       "<table border=\"1\" class=\"dataframe\">\n",
       "  <thead>\n",
       "    <tr style=\"text-align: right;\">\n",
       "      <th></th>\n",
       "      <th>company_hash</th>\n",
       "      <th>ctc</th>\n",
       "      <th>job_position</th>\n",
       "      <th>ctc_updated_year</th>\n",
       "      <th>Year of Experience</th>\n",
       "    </tr>\n",
       "  </thead>\n",
       "  <tbody>\n",
       "    <tr>\n",
       "      <th>0</th>\n",
       "      <td>-1.664776</td>\n",
       "      <td>0.020617</td>\n",
       "      <td>-0.081665</td>\n",
       "      <td>0.001995</td>\n",
       "      <td>-0.013813</td>\n",
       "    </tr>\n",
       "    <tr>\n",
       "      <th>1</th>\n",
       "      <td>0.002046</td>\n",
       "      <td>-0.845118</td>\n",
       "      <td>-0.565672</td>\n",
       "      <td>-0.015106</td>\n",
       "      <td>-0.044398</td>\n",
       "    </tr>\n",
       "    <tr>\n",
       "      <th>2</th>\n",
       "      <td>-0.373119</td>\n",
       "      <td>1.219326</td>\n",
       "      <td>-0.986547</td>\n",
       "      <td>0.001995</td>\n",
       "      <td>0.001480</td>\n",
       "    </tr>\n",
       "    <tr>\n",
       "      <th>3</th>\n",
       "      <td>-0.676381</td>\n",
       "      <td>-0.512142</td>\n",
       "      <td>-0.986547</td>\n",
       "      <td>-0.015106</td>\n",
       "      <td>-0.029105</td>\n",
       "    </tr>\n",
       "    <tr>\n",
       "      <th>4</th>\n",
       "      <td>0.045915</td>\n",
       "      <td>0.420187</td>\n",
       "      <td>-0.565672</td>\n",
       "      <td>-0.015106</td>\n",
       "      <td>-0.029105</td>\n",
       "    </tr>\n",
       "  </tbody>\n",
       "</table>\n",
       "</div>"
      ],
      "text/plain": [
       "   company_hash       ctc  job_position  ctc_updated_year  Year of Experience\n",
       "0     -1.664776  0.020617     -0.081665          0.001995           -0.013813\n",
       "1      0.002046 -0.845118     -0.565672         -0.015106           -0.044398\n",
       "2     -0.373119  1.219326     -0.986547          0.001995            0.001480\n",
       "3     -0.676381 -0.512142     -0.986547         -0.015106           -0.029105\n",
       "4      0.045915  0.420187     -0.565672         -0.015106           -0.029105"
      ]
     },
     "execution_count": 71,
     "metadata": {},
     "output_type": "execute_result"
    }
   ],
   "source": [
    "scaled_df.head()"
   ]
  },
  {
   "cell_type": "markdown",
   "id": "92558c86",
   "metadata": {},
   "source": [
    "### Checking for missing values and Prepare data for KNN/ Mean Imputation."
   ]
  },
  {
   "cell_type": "code",
   "execution_count": 72,
   "id": "ddbe64c3",
   "metadata": {},
   "outputs": [],
   "source": [
    "from sklearn.impute import KNNImputer\n",
    "k = 3\n",
    "imputer = KNNImputer(n_neighbors=k)\n",
    "imputed_data = imputer.fit_transform(scaled_df)\n",
    "imputed_df = pd.DataFrame(imputed_data, columns=scaled_df.columns)"
   ]
  },
  {
   "cell_type": "code",
   "execution_count": 73,
   "id": "e5c1ce44",
   "metadata": {},
   "outputs": [
    {
     "data": {
      "text/plain": [
       "company_hash          0\n",
       "ctc                   0\n",
       "job_position          0\n",
       "ctc_updated_year      0\n",
       "Year of Experience    0\n",
       "dtype: int64"
      ]
     },
     "execution_count": 73,
     "metadata": {},
     "output_type": "execute_result"
    }
   ],
   "source": [
    "imputed_df.isnull().sum()"
   ]
  },
  {
   "cell_type": "markdown",
   "id": "bea16293",
   "metadata": {},
   "source": [
    "### Elbow method"
   ]
  },
  {
   "cell_type": "code",
   "execution_count": 74,
   "id": "62b6c726",
   "metadata": {},
   "outputs": [],
   "source": [
    "from sklearn.cluster import KMeans\n",
    "wcss = []\n",
    "k_range = range(1, 11)\n",
    "for k in k_range:\n",
    "    kmeans = KMeans(n_clusters=k, random_state=42)\n",
    "    kmeans.fit(imputed_df)\n",
    "    wcss.append(kmeans.inertia_)"
   ]
  },
  {
   "cell_type": "code",
   "execution_count": 75,
   "id": "d8d86bd2",
   "metadata": {},
   "outputs": [
    {
     "data": {
      "text/plain": [
       "<AxesSubplot:>"
      ]
     },
     "execution_count": 75,
     "metadata": {},
     "output_type": "execute_result"
    },
    {
     "data": {
      "image/png": "[encoded data removed]",
      "text/plain": [
       "<Figure size 640x480 with 1 Axes>"
      ]
     },
     "metadata": {},
     "output_type": "display_data"
    }
   ],
   "source": [
    "sns.lineplot(k_range,wcss)"
   ]
  },
  {
   "cell_type": "markdown",
   "id": "71cca022",
   "metadata": {},
   "source": [
    "2 and 5 can be the number of cluster"
   ]
  },
  {
   "cell_type": "markdown",
   "id": "94bc51b1",
   "metadata": {},
   "source": [
    "### K-means clustering"
   ]
  },
  {
   "cell_type": "code",
   "execution_count": 87,
   "id": "bf95a06a",
   "metadata": {},
   "outputs": [],
   "source": [
    "kmeans = KMeans(n_clusters=2, random_state=0)"
   ]
  },
  {
   "cell_type": "code",
   "execution_count": 88,
   "id": "ac2686df",
   "metadata": {},
   "outputs": [],
   "source": [
    "kmeans.fit(imputed_df)\n",
    "labels = kmeans.labels_\n",
    "imputed_df[\"cluster\"] = labels"
   ]
  },
  {
   "cell_type": "code",
   "execution_count": 89,
   "id": "ef899496",
   "metadata": {},
   "outputs": [
    {
     "data": {
      "text/html": [
       "<div>\n",
       "<style scoped>\n",
       "    .dataframe tbody tr th:only-of-type {\n",
       "        vertical-align: middle;\n",
       "    }\n",
       "\n",
       "    .dataframe tbody tr th {\n",
       "        vertical-align: top;\n",
       "    }\n",
       "\n",
       "    .dataframe thead th {\n",
       "        text-align: right;\n",
       "    }\n",
       "</style>\n",
       "<table border=\"1\" class=\"dataframe\">\n",
       "  <thead>\n",
       "    <tr style=\"text-align: right;\">\n",
       "      <th></th>\n",
       "      <th>company_hash</th>\n",
       "      <th>ctc</th>\n",
       "      <th>job_position</th>\n",
       "      <th>ctc_updated_year</th>\n",
       "      <th>Year of Experience</th>\n",
       "      <th>cluster</th>\n",
       "    </tr>\n",
       "  </thead>\n",
       "  <tbody>\n",
       "    <tr>\n",
       "      <th>0</th>\n",
       "      <td>-1.664776</td>\n",
       "      <td>0.020617</td>\n",
       "      <td>-0.081665</td>\n",
       "      <td>0.001995</td>\n",
       "      <td>-0.013813</td>\n",
       "      <td>1</td>\n",
       "    </tr>\n",
       "    <tr>\n",
       "      <th>1</th>\n",
       "      <td>0.002046</td>\n",
       "      <td>-0.845118</td>\n",
       "      <td>-0.565672</td>\n",
       "      <td>-0.015106</td>\n",
       "      <td>-0.044398</td>\n",
       "      <td>1</td>\n",
       "    </tr>\n",
       "    <tr>\n",
       "      <th>2</th>\n",
       "      <td>-0.373119</td>\n",
       "      <td>1.219326</td>\n",
       "      <td>-0.986547</td>\n",
       "      <td>0.001995</td>\n",
       "      <td>0.001480</td>\n",
       "      <td>0</td>\n",
       "    </tr>\n",
       "    <tr>\n",
       "      <th>3</th>\n",
       "      <td>-0.676381</td>\n",
       "      <td>-0.512142</td>\n",
       "      <td>-0.986547</td>\n",
       "      <td>-0.015106</td>\n",
       "      <td>-0.029105</td>\n",
       "      <td>1</td>\n",
       "    </tr>\n",
       "    <tr>\n",
       "      <th>4</th>\n",
       "      <td>0.045915</td>\n",
       "      <td>0.420187</td>\n",
       "      <td>-0.565672</td>\n",
       "      <td>-0.015106</td>\n",
       "      <td>-0.029105</td>\n",
       "      <td>0</td>\n",
       "    </tr>\n",
       "  </tbody>\n",
       "</table>\n",
       "</div>"
      ],
      "text/plain": [
       "   company_hash       ctc  job_position  ctc_updated_year  Year of Experience  \\\n",
       "0     -1.664776  0.020617     -0.081665          0.001995           -0.013813   \n",
       "1      0.002046 -0.845118     -0.565672         -0.015106           -0.044398   \n",
       "2     -0.373119  1.219326     -0.986547          0.001995            0.001480   \n",
       "3     -0.676381 -0.512142     -0.986547         -0.015106           -0.029105   \n",
       "4      0.045915  0.420187     -0.565672         -0.015106           -0.029105   \n",
       "\n",
       "   cluster  \n",
       "0        1  \n",
       "1        1  \n",
       "2        0  \n",
       "3        1  \n",
       "4        0  "
      ]
     },
     "execution_count": 89,
     "metadata": {},
     "output_type": "execute_result"
    }
   ],
   "source": [
    "imputed_df.head()"
   ]
  },
  {
   "cell_type": "code",
   "execution_count": 90,
   "id": "f9660ad5",
   "metadata": {},
   "outputs": [
    {
     "data": {
      "text/plain": [
       "(192684, 6)"
      ]
     },
     "execution_count": 90,
     "metadata": {},
     "output_type": "execute_result"
    }
   ],
   "source": [
    "imputed_df.shape"
   ]
  },
  {
   "cell_type": "markdown",
   "id": "0f71cb29",
   "metadata": {},
   "source": [
    "### Hierarchical clustering (With sampling)"
   ]
  },
  {
   "cell_type": "code",
   "execution_count": 91,
   "id": "d6dc1e7c",
   "metadata": {},
   "outputs": [],
   "source": [
    "from sklearn.cluster import AgglomerativeClustering\n",
    "clustering = AgglomerativeClustering(n_clusters=6)"
   ]
  },
  {
   "cell_type": "code",
   "execution_count": 92,
   "id": "3b5fc5c6",
   "metadata": {},
   "outputs": [],
   "source": [
    "imputed_df_hi=imputed_df.drop('cluster',axis=1)"
   ]
  },
  {
   "cell_type": "code",
   "execution_count": 93,
   "id": "d8dbe236",
   "metadata": {},
   "outputs": [],
   "source": [
    "imputed_df_hi=imputed_df_hi[:10000]"
   ]
  },
  {
   "cell_type": "code",
   "execution_count": 94,
   "id": "b9671032",
   "metadata": {},
   "outputs": [
    {
     "data": {
      "text/plain": [
       "AgglomerativeClustering(n_clusters=6)"
      ]
     },
     "execution_count": 94,
     "metadata": {},
     "output_type": "execute_result"
    }
   ],
   "source": [
    "clustering.fit(imputed_df_hi)"
   ]
  },
  {
   "cell_type": "code",
   "execution_count": 95,
   "id": "b77ff0f9",
   "metadata": {},
   "outputs": [],
   "source": [
    "labels = clustering.labels_\n",
    "imputed_df_hi[\"cluster\"] = labels"
   ]
  },
  {
   "cell_type": "code",
   "execution_count": 96,
   "id": "65fb5a59",
   "metadata": {},
   "outputs": [
    {
     "data": {
      "text/html": [
       "<div>\n",
       "<style scoped>\n",
       "    .dataframe tbody tr th:only-of-type {\n",
       "        vertical-align: middle;\n",
       "    }\n",
       "\n",
       "    .dataframe tbody tr th {\n",
       "        vertical-align: top;\n",
       "    }\n",
       "\n",
       "    .dataframe thead th {\n",
       "        text-align: right;\n",
       "    }\n",
       "</style>\n",
       "<table border=\"1\" class=\"dataframe\">\n",
       "  <thead>\n",
       "    <tr style=\"text-align: right;\">\n",
       "      <th></th>\n",
       "      <th>company_hash</th>\n",
       "      <th>ctc</th>\n",
       "      <th>job_position</th>\n",
       "      <th>ctc_updated_year</th>\n",
       "      <th>Year of Experience</th>\n",
       "      <th>cluster</th>\n",
       "    </tr>\n",
       "  </thead>\n",
       "  <tbody>\n",
       "    <tr>\n",
       "      <th>0</th>\n",
       "      <td>-1.664776</td>\n",
       "      <td>0.020617</td>\n",
       "      <td>-0.081665</td>\n",
       "      <td>0.001995</td>\n",
       "      <td>-0.013813</td>\n",
       "      <td>0</td>\n",
       "    </tr>\n",
       "    <tr>\n",
       "      <th>1</th>\n",
       "      <td>0.002046</td>\n",
       "      <td>-0.845118</td>\n",
       "      <td>-0.565672</td>\n",
       "      <td>-0.015106</td>\n",
       "      <td>-0.044398</td>\n",
       "      <td>0</td>\n",
       "    </tr>\n",
       "    <tr>\n",
       "      <th>2</th>\n",
       "      <td>-0.373119</td>\n",
       "      <td>1.219326</td>\n",
       "      <td>-0.986547</td>\n",
       "      <td>0.001995</td>\n",
       "      <td>0.001480</td>\n",
       "      <td>1</td>\n",
       "    </tr>\n",
       "    <tr>\n",
       "      <th>3</th>\n",
       "      <td>-0.676381</td>\n",
       "      <td>-0.512142</td>\n",
       "      <td>-0.986547</td>\n",
       "      <td>-0.015106</td>\n",
       "      <td>-0.029105</td>\n",
       "      <td>0</td>\n",
       "    </tr>\n",
       "    <tr>\n",
       "      <th>4</th>\n",
       "      <td>0.045915</td>\n",
       "      <td>0.420187</td>\n",
       "      <td>-0.565672</td>\n",
       "      <td>-0.015106</td>\n",
       "      <td>-0.029105</td>\n",
       "      <td>0</td>\n",
       "    </tr>\n",
       "    <tr>\n",
       "      <th>5</th>\n",
       "      <td>1.410500</td>\n",
       "      <td>-0.512142</td>\n",
       "      <td>-0.565672</td>\n",
       "      <td>0.001995</td>\n",
       "      <td>-0.044398</td>\n",
       "      <td>3</td>\n",
       "    </tr>\n",
       "    <tr>\n",
       "      <th>6</th>\n",
       "      <td>-0.849248</td>\n",
       "      <td>0.553377</td>\n",
       "      <td>-0.565672</td>\n",
       "      <td>-0.015106</td>\n",
       "      <td>-0.044398</td>\n",
       "      <td>0</td>\n",
       "    </tr>\n",
       "    <tr>\n",
       "      <th>7</th>\n",
       "      <td>0.839742</td>\n",
       "      <td>-0.911712</td>\n",
       "      <td>-0.986547</td>\n",
       "      <td>-0.015106</td>\n",
       "      <td>-0.059691</td>\n",
       "      <td>3</td>\n",
       "    </tr>\n",
       "    <tr>\n",
       "      <th>8</th>\n",
       "      <td>0.505465</td>\n",
       "      <td>-0.845117</td>\n",
       "      <td>1.484592</td>\n",
       "      <td>0.001995</td>\n",
       "      <td>-0.074983</td>\n",
       "      <td>4</td>\n",
       "    </tr>\n",
       "    <tr>\n",
       "      <th>9</th>\n",
       "      <td>1.193206</td>\n",
       "      <td>-0.964988</td>\n",
       "      <td>1.484592</td>\n",
       "      <td>-0.015106</td>\n",
       "      <td>-0.059691</td>\n",
       "      <td>4</td>\n",
       "    </tr>\n",
       "  </tbody>\n",
       "</table>\n",
       "</div>"
      ],
      "text/plain": [
       "   company_hash       ctc  job_position  ctc_updated_year  Year of Experience  \\\n",
       "0     -1.664776  0.020617     -0.081665          0.001995           -0.013813   \n",
       "1      0.002046 -0.845118     -0.565672         -0.015106           -0.044398   \n",
       "2     -0.373119  1.219326     -0.986547          0.001995            0.001480   \n",
       "3     -0.676381 -0.512142     -0.986547         -0.015106           -0.029105   \n",
       "4      0.045915  0.420187     -0.565672         -0.015106           -0.029105   \n",
       "5      1.410500 -0.512142     -0.565672          0.001995           -0.044398   \n",
       "6     -0.849248  0.553377     -0.565672         -0.015106           -0.044398   \n",
       "7      0.839742 -0.911712     -0.986547         -0.015106           -0.059691   \n",
       "8      0.505465 -0.845117      1.484592          0.001995           -0.074983   \n",
       "9      1.193206 -0.964988      1.484592         -0.015106           -0.059691   \n",
       "\n",
       "   cluster  \n",
       "0        0  \n",
       "1        0  \n",
       "2        1  \n",
       "3        0  \n",
       "4        0  \n",
       "5        3  \n",
       "6        0  \n",
       "7        3  \n",
       "8        4  \n",
       "9        4  "
      ]
     },
     "execution_count": 96,
     "metadata": {},
     "output_type": "execute_result"
    }
   ],
   "source": [
    "imputed_df_hi.head(10)"
   ]
  },
  {
   "cell_type": "code",
   "execution_count": 101,
   "id": "adae8eb5",
   "metadata": {},
   "outputs": [
    {
     "data": {
      "text/plain": [
       "Text(0, 0.5, 'distance')"
      ]
     },
     "execution_count": 101,
     "metadata": {},
     "output_type": "execute_result"
    },
    {
     "data": {
      "image/png": "[encoded data removed]",
      "text/plain": [
       "<Figure size 2000x1200 with 1 Axes>"
      ]
     },
     "metadata": {},
     "output_type": "display_data"
    }
   ],
   "source": [
    "import scipy.cluster.hierarchy as sch\n",
    "import matplotlib.pyplot as plt\n",
    "sample = df.sample(500)\n",
    "Z = sch.linkage(sample, method= 'ward')\n",
    "fig, ax = plt.subplots (figsize= (20, 12))\n",
    "sch.dendrogram(Z, labels=sample.index, ax=ax, color_threshold=2)\n",
    "plt.xticks(rotation=90)\n",
    "ax.set_ylabel('distance')"
   ]
  },
  {
   "cell_type": "markdown",
   "id": "c56f3719",
   "metadata": {},
   "source": [
    "Here dendogram indicates 2 clusters"
   ]
  },
  {
   "cell_type": "markdown",
   "id": "2cc7edf4",
   "metadata": {},
   "source": [
    "## Actionable Insights"
   ]
  },
  {
   "cell_type": "markdown",
   "id": "4723eac2",
   "metadata": {},
   "source": [
    "- Start by researching industry salaries for the positions in question. This can help you determine if the company's salaries are competitive with those in the industry.\n",
    "\n",
    "- Check for any potential biases that may be affecting salaries, such as gender or race. Take steps to address any biases that are identified.\n",
    "\n"
   ]
  },
  {
   "cell_type": "markdown",
   "id": "bab190d8",
   "metadata": {},
   "source": [
    "## Recommendations"
   ]
  },
  {
   "cell_type": "markdown",
   "id": "09aacb00",
   "metadata": {},
   "source": [
    "- If you are currently working at a tier-1 company and looking for a new placement, it would be recommended to consider other tier-1 companies or top-tier startups within your industry. These companies typically have similar cultures, resources, and expectations, which can make for a smoother transition.\n",
    "\n",
    "- For individuals working in tier-2 companies, which are smaller than tier-1 companies but still relatively large and successful, it may be beneficial to consider similar-sized companies within your industry, or potentially tier-1 companies if you have relevant experience and qualifications.\n",
    "\n",
    "- For those working in tier-3 companies, which are typically smaller and less well-known, it may be helpful to seek out other companies of similar size and scope, as well as startups or mid-tier companies that can offer new opportunities for growth and development.\n",
    "\n",
    "- Salary negotitation assistance to newly selected candidate for fair salary.\n",
    "\n",
    "- Target people who are in initial time in there carrier, or look for people who are trying to switch thier profession"
   ]
  },
  {
   "cell_type": "code",
   "execution_count": null,
   "id": "ee891c91",
   "metadata": {},
   "outputs": [],
   "source": [
    "pip uninstall matplotlib"
   ]
  },
  {
   "cell_type": "code",
   "execution_count": null,
   "id": "ffb1b7aa",
   "metadata": {},
   "outputs": [],
   "source": [
    "pip install matplotlib"
   ]
  },
  {
   "cell_type": "code",
   "execution_count": null,
   "id": "2030ba30",
   "metadata": {},
   "outputs": [],
   "source": []
  }
 ],
 "metadata": {
  "kernelspec": {
   "display_name": "Python 3 (ipykernel)",
   "language": "python",
   "name": "python3"
  },
  "language_info": {
   "codemirror_mode": {
    "name": "ipython",
    "version": 3
   },
   "file_extension": ".py",
   "mimetype": "text/x-python",
   "name": "python",
   "nbconvert_exporter": "python",
   "pygments_lexer": "ipython3",
   "version": "3.9.7"
  }
 },
 "nbformat": 4,
 "nbformat_minor": 5
}
